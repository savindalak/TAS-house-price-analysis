{
 "cells": [
  {
   "cell_type": "markdown",
   "metadata": {},
   "source": [
    "<h1>Analysis of Tasmanian house rent data and prediction of house rents based on known parameters(postcode,no of rooms & length of stay)"
   ]
  },
  {
   "cell_type": "code",
   "execution_count": 50,
   "metadata": {},
   "outputs": [],
   "source": [
    "import pandas as pd\n",
    "import numpy as np\n",
    "import matplotlib.pyplot as plt"
   ]
  },
  {
   "cell_type": "code",
   "execution_count": 5,
   "metadata": {},
   "outputs": [],
   "source": [
    "df=pd.read_excel('https://data.gov.au/dataset/f8697442-8f22-432a-bf93-fdc325588b24/resource/bec663d7-205e-48ea-861b-d0495ce74187/download/absreport_jun2018.xlsx')"
   ]
  },
  {
   "cell_type": "code",
   "execution_count": 6,
   "metadata": {},
   "outputs": [
    {
     "data": {
      "text/html": [
       "<div>\n",
       "<style scoped>\n",
       "    .dataframe tbody tr th:only-of-type {\n",
       "        vertical-align: middle;\n",
       "    }\n",
       "\n",
       "    .dataframe tbody tr th {\n",
       "        vertical-align: top;\n",
       "    }\n",
       "\n",
       "    .dataframe thead th {\n",
       "        text-align: right;\n",
       "    }\n",
       "</style>\n",
       "<table border=\"1\" class=\"dataframe\">\n",
       "  <thead>\n",
       "    <tr style=\"text-align: right;\">\n",
       "      <th></th>\n",
       "      <th>Suburb</th>\n",
       "      <th>State</th>\n",
       "      <th>Postcode</th>\n",
       "      <th>Bond Amount</th>\n",
       "      <th>Weekly Rent</th>\n",
       "      <th>Bond Lodgement date (DD/MM/YYYY)</th>\n",
       "      <th>Bond Activation date (DD/MM/YYYY)</th>\n",
       "      <th>No of Bedrooms</th>\n",
       "      <th>Dwelling/Premises Type</th>\n",
       "      <th>Length of Tenancy (In Months)</th>\n",
       "    </tr>\n",
       "  </thead>\n",
       "  <tbody>\n",
       "    <tr>\n",
       "      <th>0</th>\n",
       "      <td>DEVONPORT</td>\n",
       "      <td>TAS</td>\n",
       "      <td>7310</td>\n",
       "      <td>840.0</td>\n",
       "      <td>210.0</td>\n",
       "      <td>2018-06-01</td>\n",
       "      <td>2018-06-01</td>\n",
       "      <td>2.0</td>\n",
       "      <td>SEPARATE HOUSE</td>\n",
       "      <td>6</td>\n",
       "    </tr>\n",
       "    <tr>\n",
       "      <th>1</th>\n",
       "      <td>DEVONPORT</td>\n",
       "      <td>TAS</td>\n",
       "      <td>7310</td>\n",
       "      <td>1000.0</td>\n",
       "      <td>250.0</td>\n",
       "      <td>2018-06-01</td>\n",
       "      <td>2018-06-01</td>\n",
       "      <td>1.0</td>\n",
       "      <td>FLAT OR UNIT OR APARTMENT</td>\n",
       "      <td>12</td>\n",
       "    </tr>\n",
       "    <tr>\n",
       "      <th>2</th>\n",
       "      <td>WEST MOONAH</td>\n",
       "      <td>TAS</td>\n",
       "      <td>7009</td>\n",
       "      <td>700.0</td>\n",
       "      <td>175.0</td>\n",
       "      <td>2018-06-01</td>\n",
       "      <td>2018-06-04</td>\n",
       "      <td>1.0</td>\n",
       "      <td>SEPARATE HOUSE</td>\n",
       "      <td>11</td>\n",
       "    </tr>\n",
       "    <tr>\n",
       "      <th>3</th>\n",
       "      <td>LAUNCESTON</td>\n",
       "      <td>TAS</td>\n",
       "      <td>7250</td>\n",
       "      <td>1272.0</td>\n",
       "      <td>318.0</td>\n",
       "      <td>2018-06-01</td>\n",
       "      <td>2018-06-01</td>\n",
       "      <td>1.0</td>\n",
       "      <td>FLAT OR UNIT OR APARTMENT</td>\n",
       "      <td>3</td>\n",
       "    </tr>\n",
       "    <tr>\n",
       "      <th>4</th>\n",
       "      <td>KINGSTON</td>\n",
       "      <td>TAS</td>\n",
       "      <td>7050</td>\n",
       "      <td>1860.0</td>\n",
       "      <td>465.0</td>\n",
       "      <td>2018-06-01</td>\n",
       "      <td>2018-06-06</td>\n",
       "      <td>3.0</td>\n",
       "      <td>UNSPECIFIED</td>\n",
       "      <td>12</td>\n",
       "    </tr>\n",
       "  </tbody>\n",
       "</table>\n",
       "</div>"
      ],
      "text/plain": [
       "        Suburb State  Postcode  Bond Amount  Weekly Rent  \\\n",
       "0    DEVONPORT   TAS      7310        840.0        210.0   \n",
       "1    DEVONPORT   TAS      7310       1000.0        250.0   \n",
       "2  WEST MOONAH   TAS      7009        700.0        175.0   \n",
       "3   LAUNCESTON   TAS      7250       1272.0        318.0   \n",
       "4     KINGSTON   TAS      7050       1860.0        465.0   \n",
       "\n",
       "  Bond Lodgement date (DD/MM/YYYY) Bond Activation date (DD/MM/YYYY)  \\\n",
       "0                       2018-06-01                        2018-06-01   \n",
       "1                       2018-06-01                        2018-06-01   \n",
       "2                       2018-06-01                        2018-06-04   \n",
       "3                       2018-06-01                        2018-06-01   \n",
       "4                       2018-06-01                        2018-06-06   \n",
       "\n",
       "   No of Bedrooms     Dwelling/Premises Type  Length of Tenancy (In Months)  \n",
       "0             2.0             SEPARATE HOUSE                              6  \n",
       "1             1.0  FLAT OR UNIT OR APARTMENT                             12  \n",
       "2             1.0             SEPARATE HOUSE                             11  \n",
       "3             1.0  FLAT OR UNIT OR APARTMENT                              3  \n",
       "4             3.0                UNSPECIFIED                             12  "
      ]
     },
     "execution_count": 6,
     "metadata": {},
     "output_type": "execute_result"
    }
   ],
   "source": [
    "df.head()"
   ]
  },
  {
   "cell_type": "code",
   "execution_count": 12,
   "metadata": {},
   "outputs": [
    {
     "data": {
      "text/html": [
       "<div>\n",
       "<style scoped>\n",
       "    .dataframe tbody tr th:only-of-type {\n",
       "        vertical-align: middle;\n",
       "    }\n",
       "\n",
       "    .dataframe tbody tr th {\n",
       "        vertical-align: top;\n",
       "    }\n",
       "\n",
       "    .dataframe thead th {\n",
       "        text-align: right;\n",
       "    }\n",
       "</style>\n",
       "<table border=\"1\" class=\"dataframe\">\n",
       "  <thead>\n",
       "    <tr style=\"text-align: right;\">\n",
       "      <th></th>\n",
       "      <th>Postcode</th>\n",
       "      <th>Bond Amount</th>\n",
       "      <th>Weekly Rent</th>\n",
       "      <th>No of Bedrooms</th>\n",
       "      <th>Length of Tenancy (In Months)</th>\n",
       "    </tr>\n",
       "  </thead>\n",
       "  <tbody>\n",
       "    <tr>\n",
       "      <th>count</th>\n",
       "      <td>1094.000000</td>\n",
       "      <td>1094.000000</td>\n",
       "      <td>1094.000000</td>\n",
       "      <td>846.000000</td>\n",
       "      <td>1094.000000</td>\n",
       "    </tr>\n",
       "    <tr>\n",
       "      <th>mean</th>\n",
       "      <td>7154.061243</td>\n",
       "      <td>1207.657971</td>\n",
       "      <td>317.746271</td>\n",
       "      <td>2.509456</td>\n",
       "      <td>10.601463</td>\n",
       "    </tr>\n",
       "    <tr>\n",
       "      <th>std</th>\n",
       "      <td>133.532342</td>\n",
       "      <td>543.010253</td>\n",
       "      <td>130.934113</td>\n",
       "      <td>0.950506</td>\n",
       "      <td>6.393632</td>\n",
       "    </tr>\n",
       "    <tr>\n",
       "      <th>min</th>\n",
       "      <td>7000.000000</td>\n",
       "      <td>120.000000</td>\n",
       "      <td>45.000000</td>\n",
       "      <td>1.000000</td>\n",
       "      <td>0.000000</td>\n",
       "    </tr>\n",
       "    <tr>\n",
       "      <th>25%</th>\n",
       "      <td>7011.000000</td>\n",
       "      <td>880.000000</td>\n",
       "      <td>240.000000</td>\n",
       "      <td>2.000000</td>\n",
       "      <td>7.000000</td>\n",
       "    </tr>\n",
       "    <tr>\n",
       "      <th>50%</th>\n",
       "      <td>7173.000000</td>\n",
       "      <td>1180.000000</td>\n",
       "      <td>300.000000</td>\n",
       "      <td>3.000000</td>\n",
       "      <td>12.000000</td>\n",
       "    </tr>\n",
       "    <tr>\n",
       "      <th>75%</th>\n",
       "      <td>7253.000000</td>\n",
       "      <td>1520.000000</td>\n",
       "      <td>385.000000</td>\n",
       "      <td>3.000000</td>\n",
       "      <td>12.000000</td>\n",
       "    </tr>\n",
       "    <tr>\n",
       "      <th>max</th>\n",
       "      <td>7470.000000</td>\n",
       "      <td>7600.000000</td>\n",
       "      <td>1900.000000</td>\n",
       "      <td>7.000000</td>\n",
       "      <td>131.000000</td>\n",
       "    </tr>\n",
       "  </tbody>\n",
       "</table>\n",
       "</div>"
      ],
      "text/plain": [
       "          Postcode  Bond Amount  Weekly Rent  No of Bedrooms  \\\n",
       "count  1094.000000  1094.000000  1094.000000      846.000000   \n",
       "mean   7154.061243  1207.657971   317.746271        2.509456   \n",
       "std     133.532342   543.010253   130.934113        0.950506   \n",
       "min    7000.000000   120.000000    45.000000        1.000000   \n",
       "25%    7011.000000   880.000000   240.000000        2.000000   \n",
       "50%    7173.000000  1180.000000   300.000000        3.000000   \n",
       "75%    7253.000000  1520.000000   385.000000        3.000000   \n",
       "max    7470.000000  7600.000000  1900.000000        7.000000   \n",
       "\n",
       "       Length of Tenancy (In Months)  \n",
       "count                    1094.000000  \n",
       "mean                       10.601463  \n",
       "std                         6.393632  \n",
       "min                         0.000000  \n",
       "25%                         7.000000  \n",
       "50%                        12.000000  \n",
       "75%                        12.000000  \n",
       "max                       131.000000  "
      ]
     },
     "execution_count": 12,
     "metadata": {},
     "output_type": "execute_result"
    }
   ],
   "source": [
    "df.describe()"
   ]
  },
  {
   "cell_type": "code",
   "execution_count": 13,
   "metadata": {},
   "outputs": [
    {
     "name": "stdout",
     "output_type": "stream",
     "text": [
      "<class 'pandas.core.frame.DataFrame'>\n",
      "RangeIndex: 1094 entries, 0 to 1093\n",
      "Data columns (total 10 columns):\n",
      "Suburb                               1094 non-null object\n",
      "State                                1094 non-null object\n",
      "Postcode                             1094 non-null int64\n",
      "Bond Amount                          1094 non-null float64\n",
      "Weekly Rent                          1094 non-null float64\n",
      "Bond Lodgement date (DD/MM/YYYY)     1094 non-null datetime64[ns]\n",
      "Bond Activation date (DD/MM/YYYY)    1094 non-null datetime64[ns]\n",
      "No of Bedrooms                       846 non-null float64\n",
      "Dwelling/Premises Type               1094 non-null object\n",
      "Length of Tenancy (In Months)        1094 non-null int64\n",
      "dtypes: datetime64[ns](2), float64(3), int64(2), object(3)\n",
      "memory usage: 85.5+ KB\n"
     ]
    }
   ],
   "source": [
    "df.info()"
   ]
  },
  {
   "cell_type": "code",
   "execution_count": 33,
   "metadata": {},
   "outputs": [
    {
     "data": {
      "text/html": [
       "<div>\n",
       "<style scoped>\n",
       "    .dataframe tbody tr th:only-of-type {\n",
       "        vertical-align: middle;\n",
       "    }\n",
       "\n",
       "    .dataframe tbody tr th {\n",
       "        vertical-align: top;\n",
       "    }\n",
       "\n",
       "    .dataframe thead th {\n",
       "        text-align: right;\n",
       "    }\n",
       "</style>\n",
       "<table border=\"1\" class=\"dataframe\">\n",
       "  <thead>\n",
       "    <tr style=\"text-align: right;\">\n",
       "      <th></th>\n",
       "      <th>Suburb</th>\n",
       "      <th>State</th>\n",
       "      <th>Postcode</th>\n",
       "      <th>Bond Amount</th>\n",
       "      <th>Weekly Rent</th>\n",
       "      <th>Bond Lodgement date (DD/MM/YYYY)</th>\n",
       "      <th>Bond Activation date (DD/MM/YYYY)</th>\n",
       "      <th>No of Bedrooms</th>\n",
       "      <th>Dwelling/Premises Type</th>\n",
       "      <th>Length of Tenancy (In Months)</th>\n",
       "    </tr>\n",
       "  </thead>\n",
       "  <tbody>\n",
       "    <tr>\n",
       "      <th>967</th>\n",
       "      <td>ROSS</td>\n",
       "      <td>TAS</td>\n",
       "      <td>7209</td>\n",
       "      <td>800.0</td>\n",
       "      <td>200.0</td>\n",
       "      <td>2018-06-25</td>\n",
       "      <td>2018-06-29</td>\n",
       "      <td>6.0</td>\n",
       "      <td>SEPARATE HOUSE</td>\n",
       "      <td>6</td>\n",
       "    </tr>\n",
       "    <tr>\n",
       "      <th>1024</th>\n",
       "      <td>INVERMAY</td>\n",
       "      <td>TAS</td>\n",
       "      <td>7248</td>\n",
       "      <td>400.0</td>\n",
       "      <td>100.0</td>\n",
       "      <td>2018-06-26</td>\n",
       "      <td>2018-06-28</td>\n",
       "      <td>6.0</td>\n",
       "      <td>UNSPECIFIED</td>\n",
       "      <td>3</td>\n",
       "    </tr>\n",
       "    <tr>\n",
       "      <th>1043</th>\n",
       "      <td>INVERMAY</td>\n",
       "      <td>TAS</td>\n",
       "      <td>7248</td>\n",
       "      <td>360.0</td>\n",
       "      <td>90.0</td>\n",
       "      <td>2018-06-26</td>\n",
       "      <td>2018-06-28</td>\n",
       "      <td>6.0</td>\n",
       "      <td>OTHERS</td>\n",
       "      <td>3</td>\n",
       "    </tr>\n",
       "    <tr>\n",
       "      <th>1044</th>\n",
       "      <td>INVERMAY</td>\n",
       "      <td>TAS</td>\n",
       "      <td>7248</td>\n",
       "      <td>400.0</td>\n",
       "      <td>100.0</td>\n",
       "      <td>2018-06-26</td>\n",
       "      <td>2018-06-28</td>\n",
       "      <td>6.0</td>\n",
       "      <td>OTHERS</td>\n",
       "      <td>2</td>\n",
       "    </tr>\n",
       "    <tr>\n",
       "      <th>1045</th>\n",
       "      <td>INVERMAY</td>\n",
       "      <td>TAS</td>\n",
       "      <td>7248</td>\n",
       "      <td>400.0</td>\n",
       "      <td>100.0</td>\n",
       "      <td>2018-06-26</td>\n",
       "      <td>2018-07-02</td>\n",
       "      <td>6.0</td>\n",
       "      <td>OTHERS</td>\n",
       "      <td>3</td>\n",
       "    </tr>\n",
       "    <tr>\n",
       "      <th>1047</th>\n",
       "      <td>INVERMAY</td>\n",
       "      <td>TAS</td>\n",
       "      <td>7248</td>\n",
       "      <td>300.0</td>\n",
       "      <td>75.0</td>\n",
       "      <td>2018-06-26</td>\n",
       "      <td>2018-06-28</td>\n",
       "      <td>6.0</td>\n",
       "      <td>OTHERS</td>\n",
       "      <td>1</td>\n",
       "    </tr>\n",
       "    <tr>\n",
       "      <th>1048</th>\n",
       "      <td>INVERMAY</td>\n",
       "      <td>TAS</td>\n",
       "      <td>7248</td>\n",
       "      <td>400.0</td>\n",
       "      <td>100.0</td>\n",
       "      <td>2018-06-26</td>\n",
       "      <td>2018-06-29</td>\n",
       "      <td>6.0</td>\n",
       "      <td>OTHERS</td>\n",
       "      <td>3</td>\n",
       "    </tr>\n",
       "  </tbody>\n",
       "</table>\n",
       "</div>"
      ],
      "text/plain": [
       "        Suburb State  Postcode  Bond Amount  Weekly Rent  \\\n",
       "967       ROSS   TAS      7209        800.0        200.0   \n",
       "1024  INVERMAY   TAS      7248        400.0        100.0   \n",
       "1043  INVERMAY   TAS      7248        360.0         90.0   \n",
       "1044  INVERMAY   TAS      7248        400.0        100.0   \n",
       "1045  INVERMAY   TAS      7248        400.0        100.0   \n",
       "1047  INVERMAY   TAS      7248        300.0         75.0   \n",
       "1048  INVERMAY   TAS      7248        400.0        100.0   \n",
       "\n",
       "     Bond Lodgement date (DD/MM/YYYY) Bond Activation date (DD/MM/YYYY)  \\\n",
       "967                        2018-06-25                        2018-06-29   \n",
       "1024                       2018-06-26                        2018-06-28   \n",
       "1043                       2018-06-26                        2018-06-28   \n",
       "1044                       2018-06-26                        2018-06-28   \n",
       "1045                       2018-06-26                        2018-07-02   \n",
       "1047                       2018-06-26                        2018-06-28   \n",
       "1048                       2018-06-26                        2018-06-29   \n",
       "\n",
       "      No of Bedrooms Dwelling/Premises Type  Length of Tenancy (In Months)  \n",
       "967              6.0         SEPARATE HOUSE                              6  \n",
       "1024             6.0            UNSPECIFIED                              3  \n",
       "1043             6.0                 OTHERS                              3  \n",
       "1044             6.0                 OTHERS                              2  \n",
       "1045             6.0                 OTHERS                              3  \n",
       "1047             6.0                 OTHERS                              1  \n",
       "1048             6.0                 OTHERS                              3  "
      ]
     },
     "execution_count": 33,
     "metadata": {},
     "output_type": "execute_result"
    }
   ],
   "source": [
    "df[df['No of Bedrooms']==np.n]"
   ]
  },
  {
   "cell_type": "markdown",
   "metadata": {},
   "source": [
    "<h2>We drop the rows where no of bedroom data is not available "
   ]
  },
  {
   "cell_type": "code",
   "execution_count": 46,
   "metadata": {},
   "outputs": [],
   "source": [
    "df=df.dropna(subset=['No of Bedrooms'])"
   ]
  },
  {
   "cell_type": "code",
   "execution_count": 47,
   "metadata": {},
   "outputs": [
    {
     "name": "stdout",
     "output_type": "stream",
     "text": [
      "<class 'pandas.core.frame.DataFrame'>\n",
      "Int64Index: 846 entries, 0 to 1093\n",
      "Data columns (total 10 columns):\n",
      "Suburb                               846 non-null object\n",
      "State                                846 non-null object\n",
      "Postcode                             846 non-null int64\n",
      "Bond Amount                          846 non-null float64\n",
      "Weekly Rent                          846 non-null float64\n",
      "Bond Lodgement date (DD/MM/YYYY)     846 non-null datetime64[ns]\n",
      "Bond Activation date (DD/MM/YYYY)    846 non-null datetime64[ns]\n",
      "No of Bedrooms                       846 non-null float64\n",
      "Dwelling/Premises Type               846 non-null object\n",
      "Length of Tenancy (In Months)        846 non-null int64\n",
      "dtypes: datetime64[ns](2), float64(3), int64(2), object(3)\n",
      "memory usage: 72.7+ KB\n"
     ]
    }
   ],
   "source": [
    "df.info()"
   ]
  },
  {
   "cell_type": "code",
   "execution_count": 81,
   "metadata": {},
   "outputs": [
    {
     "data": {
      "text/plain": [
       "Index(['Suburb', 'State', 'Postcode', 'Bond Amount', 'Weekly Rent',\n",
       "       'Bond Lodgement date (DD/MM/YYYY)', 'Bond Activation date (DD/MM/YYYY)',\n",
       "       'No of Bedrooms', 'Dwelling/Premises Type',\n",
       "       'Length of Tenancy (In Months)'],\n",
       "      dtype='object')"
      ]
     },
     "execution_count": 81,
     "metadata": {},
     "output_type": "execute_result"
    }
   ],
   "source": [
    "df.columns"
   ]
  },
  {
   "cell_type": "markdown",
   "metadata": {},
   "source": [
    "<h2>Strong correlation between bond and rent is evident in the below plot"
   ]
  },
  {
   "cell_type": "code",
   "execution_count": 95,
   "metadata": {},
   "outputs": [
    {
     "data": {
      "text/plain": [
       "(array([0.5, 1.5, 2.5, 3.5, 4.5]), <a list of 5 Text xticklabel objects>)"
      ]
     },
     "execution_count": 95,
     "metadata": {},
     "output_type": "execute_result"
    },
    {
     "data": {
      "image/png": "[encoded data removed]",
      "text/plain": [
       "<Figure size 432x288 with 2 Axes>"
      ]
     },
     "metadata": {
      "needs_background": "light"
     },
     "output_type": "display_data"
    }
   ],
   "source": [
    "fig,ax = plt.subplots()\n",
    "im=ax.pcolor(df.corr())\n",
    "fig.colorbar(im)\n",
    "ax.set_xticks([0.5,1.5,2.5,3.5,4.5])\n",
    "ax.set_xticklabels(df.corr().columns)\n",
    "ax.set_yticks([0.5,1.5,2.5,3.5,4.5])\n",
    "ax.set_yticklabels(df.corr().columns)\n",
    "plt.xticks(rotation=90)\n",
    "\n",
    "\n",
    "    "
   ]
  },
  {
   "cell_type": "code",
   "execution_count": 56,
   "metadata": {},
   "outputs": [
    {
     "data": {
      "text/html": [
       "<div>\n",
       "<style scoped>\n",
       "    .dataframe tbody tr th:only-of-type {\n",
       "        vertical-align: middle;\n",
       "    }\n",
       "\n",
       "    .dataframe tbody tr th {\n",
       "        vertical-align: top;\n",
       "    }\n",
       "\n",
       "    .dataframe thead th {\n",
       "        text-align: right;\n",
       "    }\n",
       "</style>\n",
       "<table border=\"1\" class=\"dataframe\">\n",
       "  <thead>\n",
       "    <tr style=\"text-align: right;\">\n",
       "      <th></th>\n",
       "      <th>Postcode</th>\n",
       "      <th>Bond Amount</th>\n",
       "      <th>Weekly Rent</th>\n",
       "      <th>No of Bedrooms</th>\n",
       "      <th>Length of Tenancy (In Months)</th>\n",
       "    </tr>\n",
       "  </thead>\n",
       "  <tbody>\n",
       "    <tr>\n",
       "      <th>Postcode</th>\n",
       "      <td>1.000000</td>\n",
       "      <td>-0.373783</td>\n",
       "      <td>-0.393038</td>\n",
       "      <td>0.019895</td>\n",
       "      <td>-0.065903</td>\n",
       "    </tr>\n",
       "    <tr>\n",
       "      <th>Bond Amount</th>\n",
       "      <td>-0.373783</td>\n",
       "      <td>1.000000</td>\n",
       "      <td>0.933347</td>\n",
       "      <td>0.332350</td>\n",
       "      <td>0.038732</td>\n",
       "    </tr>\n",
       "    <tr>\n",
       "      <th>Weekly Rent</th>\n",
       "      <td>-0.393038</td>\n",
       "      <td>0.933347</td>\n",
       "      <td>1.000000</td>\n",
       "      <td>0.348909</td>\n",
       "      <td>0.048356</td>\n",
       "    </tr>\n",
       "    <tr>\n",
       "      <th>No of Bedrooms</th>\n",
       "      <td>0.019895</td>\n",
       "      <td>0.332350</td>\n",
       "      <td>0.348909</td>\n",
       "      <td>1.000000</td>\n",
       "      <td>0.001321</td>\n",
       "    </tr>\n",
       "    <tr>\n",
       "      <th>Length of Tenancy (In Months)</th>\n",
       "      <td>-0.065903</td>\n",
       "      <td>0.038732</td>\n",
       "      <td>0.048356</td>\n",
       "      <td>0.001321</td>\n",
       "      <td>1.000000</td>\n",
       "    </tr>\n",
       "  </tbody>\n",
       "</table>\n",
       "</div>"
      ],
      "text/plain": [
       "                               Postcode  Bond Amount  Weekly Rent  \\\n",
       "Postcode                       1.000000    -0.373783    -0.393038   \n",
       "Bond Amount                   -0.373783     1.000000     0.933347   \n",
       "Weekly Rent                   -0.393038     0.933347     1.000000   \n",
       "No of Bedrooms                 0.019895     0.332350     0.348909   \n",
       "Length of Tenancy (In Months) -0.065903     0.038732     0.048356   \n",
       "\n",
       "                               No of Bedrooms  Length of Tenancy (In Months)  \n",
       "Postcode                             0.019895                      -0.065903  \n",
       "Bond Amount                          0.332350                       0.038732  \n",
       "Weekly Rent                          0.348909                       0.048356  \n",
       "No of Bedrooms                       1.000000                       0.001321  \n",
       "Length of Tenancy (In Months)        0.001321                       1.000000  "
      ]
     },
     "execution_count": 56,
     "metadata": {},
     "output_type": "execute_result"
    }
   ],
   "source": [
    "df.corr()"
   ]
  },
  {
   "cell_type": "markdown",
   "metadata": {},
   "source": [
    "<h2>Clear strong correlation between bond and rent shown in the below plot"
   ]
  },
  {
   "cell_type": "code",
   "execution_count": 101,
   "metadata": {},
   "outputs": [
    {
     "data": {
      "text/plain": [
       "Text(0, 0.5, 'Rent')"
      ]
     },
     "execution_count": 101,
     "metadata": {},
     "output_type": "execute_result"
    },
    {
     "data": {
      "image/png": "[encoded data removed]",
      "text/plain": [
       "<Figure size 432x288 with 1 Axes>"
      ]
     },
     "metadata": {
      "needs_background": "light"
     },
     "output_type": "display_data"
    }
   ],
   "source": [
    "plt.scatter(df[['Bond Amount']],df[['Weekly Rent']])\n",
    "plt.xlabel('Bond')\n",
    "plt.ylabel('Rent')"
   ]
  },
  {
   "cell_type": "code",
   "execution_count": 102,
   "metadata": {},
   "outputs": [
    {
     "data": {
      "text/plain": [
       "Text(0, 0.5, 'Rent')"
      ]
     },
     "execution_count": 102,
     "metadata": {},
     "output_type": "execute_result"
    },
    {
     "data": {
      "image/png": "[encoded data removed]",
      "text/plain": [
       "<Figure size 432x288 with 1 Axes>"
      ]
     },
     "metadata": {
      "needs_background": "light"
     },
     "output_type": "display_data"
    }
   ],
   "source": [
    "plt.scatter(df[['No of Bedrooms']],df[['Weekly Rent']])\n",
    "plt.xlabel('rooms')\n",
    "plt.ylabel('Rent')"
   ]
  },
  {
   "cell_type": "markdown",
   "metadata": {},
   "source": [
    "<h2>Below boxplots show some correlation between no of bed rooms and rent. However 2&3 bedroom boxplots show many outliers"
   ]
  },
  {
   "cell_type": "code",
   "execution_count": 103,
   "metadata": {},
   "outputs": [],
   "source": [
    "import seaborn as sns"
   ]
  },
  {
   "cell_type": "code",
   "execution_count": 107,
   "metadata": {},
   "outputs": [
    {
     "data": {
      "text/plain": [
       "<matplotlib.axes._subplots.AxesSubplot at 0x190a610d9e8>"
      ]
     },
     "execution_count": 107,
     "metadata": {},
     "output_type": "execute_result"
    },
    {
     "data": {
      "image/png": "[encoded data removed]",
      "text/plain": [
       "<Figure size 432x288 with 1 Axes>"
      ]
     },
     "metadata": {
      "needs_background": "light"
     },
     "output_type": "display_data"
    }
   ],
   "source": [
    "sns.boxplot(x=df['No of Bedrooms'],y=df['Weekly Rent'])\n"
   ]
  },
  {
   "cell_type": "code",
   "execution_count": 120,
   "metadata": {
    "scrolled": true
   },
   "outputs": [
    {
     "data": {
      "text/html": [
       "<div>\n",
       "<style scoped>\n",
       "    .dataframe tbody tr th:only-of-type {\n",
       "        vertical-align: middle;\n",
       "    }\n",
       "\n",
       "    .dataframe tbody tr th {\n",
       "        vertical-align: top;\n",
       "    }\n",
       "\n",
       "    .dataframe thead th {\n",
       "        text-align: right;\n",
       "    }\n",
       "</style>\n",
       "<table border=\"1\" class=\"dataframe\">\n",
       "  <thead>\n",
       "    <tr style=\"text-align: right;\">\n",
       "      <th></th>\n",
       "      <th>Postcode</th>\n",
       "      <th>Bond Amount</th>\n",
       "      <th>Weekly Rent</th>\n",
       "      <th>No of Bedrooms</th>\n",
       "      <th>Length of Tenancy (In Months)</th>\n",
       "    </tr>\n",
       "    <tr>\n",
       "      <th>Suburb</th>\n",
       "      <th></th>\n",
       "      <th></th>\n",
       "      <th></th>\n",
       "      <th></th>\n",
       "      <th></th>\n",
       "    </tr>\n",
       "  </thead>\n",
       "  <tbody>\n",
       "    <tr>\n",
       "      <th>DYNNYRNE</th>\n",
       "      <td>7005.00</td>\n",
       "      <td>3200.000000</td>\n",
       "      <td>800.000000</td>\n",
       "      <td>3.000000</td>\n",
       "      <td>12.000000</td>\n",
       "    </tr>\n",
       "    <tr>\n",
       "      <th>BOTHWELL</th>\n",
       "      <td>7030.00</td>\n",
       "      <td>2600.000000</td>\n",
       "      <td>650.000000</td>\n",
       "      <td>3.000000</td>\n",
       "      <td>11.000000</td>\n",
       "    </tr>\n",
       "    <tr>\n",
       "      <th>GLEBE</th>\n",
       "      <td>7000.00</td>\n",
       "      <td>2260.000000</td>\n",
       "      <td>595.000000</td>\n",
       "      <td>3.500000</td>\n",
       "      <td>9.000000</td>\n",
       "    </tr>\n",
       "    <tr>\n",
       "      <th>NORTH HOBART</th>\n",
       "      <td>7000.00</td>\n",
       "      <td>2126.666667</td>\n",
       "      <td>532.916667</td>\n",
       "      <td>2.583333</td>\n",
       "      <td>9.750000</td>\n",
       "    </tr>\n",
       "    <tr>\n",
       "      <th>BATTERY POINT</th>\n",
       "      <td>7004.00</td>\n",
       "      <td>1846.000000</td>\n",
       "      <td>489.000000</td>\n",
       "      <td>1.800000</td>\n",
       "      <td>9.600000</td>\n",
       "    </tr>\n",
       "    <tr>\n",
       "      <th>GEILSTON BAY</th>\n",
       "      <td>7015.00</td>\n",
       "      <td>1880.000000</td>\n",
       "      <td>470.000000</td>\n",
       "      <td>3.000000</td>\n",
       "      <td>12.000000</td>\n",
       "    </tr>\n",
       "    <tr>\n",
       "      <th>MOUNT STUART</th>\n",
       "      <td>7000.00</td>\n",
       "      <td>1866.666667</td>\n",
       "      <td>466.666667</td>\n",
       "      <td>3.000000</td>\n",
       "      <td>9.666667</td>\n",
       "    </tr>\n",
       "    <tr>\n",
       "      <th>SEVEN MILE BEACH</th>\n",
       "      <td>7170.00</td>\n",
       "      <td>1840.000000</td>\n",
       "      <td>460.000000</td>\n",
       "      <td>3.000000</td>\n",
       "      <td>6.000000</td>\n",
       "    </tr>\n",
       "    <tr>\n",
       "      <th>MARGATE</th>\n",
       "      <td>7054.00</td>\n",
       "      <td>1840.000000</td>\n",
       "      <td>460.000000</td>\n",
       "      <td>3.000000</td>\n",
       "      <td>12.000000</td>\n",
       "    </tr>\n",
       "    <tr>\n",
       "      <th>OTAGO</th>\n",
       "      <td>7017.00</td>\n",
       "      <td>900.000000</td>\n",
       "      <td>450.000000</td>\n",
       "      <td>3.000000</td>\n",
       "      <td>12.000000</td>\n",
       "    </tr>\n",
       "    <tr>\n",
       "      <th>ST LEONARDS</th>\n",
       "      <td>7250.00</td>\n",
       "      <td>1800.000000</td>\n",
       "      <td>450.000000</td>\n",
       "      <td>4.000000</td>\n",
       "      <td>12.000000</td>\n",
       "    </tr>\n",
       "    <tr>\n",
       "      <th>TRANMERE</th>\n",
       "      <td>7018.00</td>\n",
       "      <td>1790.000000</td>\n",
       "      <td>447.500000</td>\n",
       "      <td>3.500000</td>\n",
       "      <td>12.000000</td>\n",
       "    </tr>\n",
       "    <tr>\n",
       "      <th>SANDY BAY</th>\n",
       "      <td>7005.00</td>\n",
       "      <td>1785.882353</td>\n",
       "      <td>446.470588</td>\n",
       "      <td>2.029412</td>\n",
       "      <td>9.911765</td>\n",
       "    </tr>\n",
       "    <tr>\n",
       "      <th>WEST HOBART</th>\n",
       "      <td>7000.00</td>\n",
       "      <td>1676.842105</td>\n",
       "      <td>436.578947</td>\n",
       "      <td>2.578947</td>\n",
       "      <td>10.894737</td>\n",
       "    </tr>\n",
       "    <tr>\n",
       "      <th>RICHMOND</th>\n",
       "      <td>7025.00</td>\n",
       "      <td>1700.000000</td>\n",
       "      <td>425.000000</td>\n",
       "      <td>3.000000</td>\n",
       "      <td>12.000000</td>\n",
       "    </tr>\n",
       "    <tr>\n",
       "      <th>FRANKLIN</th>\n",
       "      <td>7113.00</td>\n",
       "      <td>1680.000000</td>\n",
       "      <td>420.000000</td>\n",
       "      <td>3.000000</td>\n",
       "      <td>12.000000</td>\n",
       "    </tr>\n",
       "    <tr>\n",
       "      <th>OLD BEACH</th>\n",
       "      <td>7017.25</td>\n",
       "      <td>1640.000000</td>\n",
       "      <td>410.000000</td>\n",
       "      <td>2.750000</td>\n",
       "      <td>12.000000</td>\n",
       "    </tr>\n",
       "    <tr>\n",
       "      <th>OAKDOWNS</th>\n",
       "      <td>7019.00</td>\n",
       "      <td>1620.000000</td>\n",
       "      <td>405.000000</td>\n",
       "      <td>2.500000</td>\n",
       "      <td>12.000000</td>\n",
       "    </tr>\n",
       "    <tr>\n",
       "      <th>SOMERSET</th>\n",
       "      <td>7322.00</td>\n",
       "      <td>1620.000000</td>\n",
       "      <td>405.000000</td>\n",
       "      <td>4.500000</td>\n",
       "      <td>12.000000</td>\n",
       "    </tr>\n",
       "    <tr>\n",
       "      <th>SQUEAKING POINT</th>\n",
       "      <td>7307.00</td>\n",
       "      <td>1600.000000</td>\n",
       "      <td>400.000000</td>\n",
       "      <td>4.000000</td>\n",
       "      <td>7.000000</td>\n",
       "    </tr>\n",
       "    <tr>\n",
       "      <th>KAROOLA</th>\n",
       "      <td>7267.00</td>\n",
       "      <td>1600.000000</td>\n",
       "      <td>400.000000</td>\n",
       "      <td>2.500000</td>\n",
       "      <td>12.000000</td>\n",
       "    </tr>\n",
       "    <tr>\n",
       "      <th>CREMORNE</th>\n",
       "      <td>7024.00</td>\n",
       "      <td>1600.000000</td>\n",
       "      <td>400.000000</td>\n",
       "      <td>3.000000</td>\n",
       "      <td>18.000000</td>\n",
       "    </tr>\n",
       "    <tr>\n",
       "      <th>MONTAGU BAY</th>\n",
       "      <td>7018.00</td>\n",
       "      <td>800.000000</td>\n",
       "      <td>400.000000</td>\n",
       "      <td>2.000000</td>\n",
       "      <td>12.000000</td>\n",
       "    </tr>\n",
       "    <tr>\n",
       "      <th>LINDISFARNE</th>\n",
       "      <td>7015.00</td>\n",
       "      <td>1545.000000</td>\n",
       "      <td>399.583333</td>\n",
       "      <td>2.500000</td>\n",
       "      <td>11.333333</td>\n",
       "    </tr>\n",
       "    <tr>\n",
       "      <th>LAUDERDALE</th>\n",
       "      <td>7021.00</td>\n",
       "      <td>1586.666667</td>\n",
       "      <td>396.666667</td>\n",
       "      <td>2.666667</td>\n",
       "      <td>9.000000</td>\n",
       "    </tr>\n",
       "    <tr>\n",
       "      <th>GOODWOOD</th>\n",
       "      <td>7010.00</td>\n",
       "      <td>1570.000000</td>\n",
       "      <td>392.500000</td>\n",
       "      <td>3.000000</td>\n",
       "      <td>12.000000</td>\n",
       "    </tr>\n",
       "    <tr>\n",
       "      <th>NORWOOD</th>\n",
       "      <td>7250.00</td>\n",
       "      <td>1560.000000</td>\n",
       "      <td>390.000000</td>\n",
       "      <td>3.250000</td>\n",
       "      <td>10.750000</td>\n",
       "    </tr>\n",
       "    <tr>\n",
       "      <th>SNUG</th>\n",
       "      <td>7054.00</td>\n",
       "      <td>1560.000000</td>\n",
       "      <td>390.000000</td>\n",
       "      <td>3.000000</td>\n",
       "      <td>12.000000</td>\n",
       "    </tr>\n",
       "    <tr>\n",
       "      <th>KINGSTON</th>\n",
       "      <td>7050.00</td>\n",
       "      <td>1550.000000</td>\n",
       "      <td>387.500000</td>\n",
       "      <td>2.555556</td>\n",
       "      <td>10.833333</td>\n",
       "    </tr>\n",
       "    <tr>\n",
       "      <th>EAST LAUNCESTON</th>\n",
       "      <td>7250.00</td>\n",
       "      <td>1550.000000</td>\n",
       "      <td>387.500000</td>\n",
       "      <td>2.250000</td>\n",
       "      <td>10.250000</td>\n",
       "    </tr>\n",
       "    <tr>\n",
       "      <th>...</th>\n",
       "      <td>...</td>\n",
       "      <td>...</td>\n",
       "      <td>...</td>\n",
       "      <td>...</td>\n",
       "      <td>...</td>\n",
       "    </tr>\n",
       "    <tr>\n",
       "      <th>PARK GROVE</th>\n",
       "      <td>7320.00</td>\n",
       "      <td>913.333333</td>\n",
       "      <td>228.333333</td>\n",
       "      <td>2.333333</td>\n",
       "      <td>12.000000</td>\n",
       "    </tr>\n",
       "    <tr>\n",
       "      <th>DELORAINE</th>\n",
       "      <td>7304.00</td>\n",
       "      <td>912.000000</td>\n",
       "      <td>228.000000</td>\n",
       "      <td>2.800000</td>\n",
       "      <td>9.400000</td>\n",
       "    </tr>\n",
       "    <tr>\n",
       "      <th>UPPER BURNIE</th>\n",
       "      <td>7320.00</td>\n",
       "      <td>905.000000</td>\n",
       "      <td>226.250000</td>\n",
       "      <td>2.500000</td>\n",
       "      <td>10.250000</td>\n",
       "    </tr>\n",
       "    <tr>\n",
       "      <th>MONTELLO</th>\n",
       "      <td>7320.00</td>\n",
       "      <td>890.000000</td>\n",
       "      <td>222.500000</td>\n",
       "      <td>2.000000</td>\n",
       "      <td>9.500000</td>\n",
       "    </tr>\n",
       "    <tr>\n",
       "      <th>SHOREWELL PARK</th>\n",
       "      <td>7320.00</td>\n",
       "      <td>888.875000</td>\n",
       "      <td>222.253750</td>\n",
       "      <td>2.375000</td>\n",
       "      <td>9.875000</td>\n",
       "    </tr>\n",
       "    <tr>\n",
       "      <th>ROSNY</th>\n",
       "      <td>7018.00</td>\n",
       "      <td>880.000000</td>\n",
       "      <td>220.000000</td>\n",
       "      <td>3.000000</td>\n",
       "      <td>6.000000</td>\n",
       "    </tr>\n",
       "    <tr>\n",
       "      <th>YOUNGTOWN</th>\n",
       "      <td>7249.00</td>\n",
       "      <td>868.000000</td>\n",
       "      <td>217.000000</td>\n",
       "      <td>2.000000</td>\n",
       "      <td>10.800000</td>\n",
       "    </tr>\n",
       "    <tr>\n",
       "      <th>SMITHTON</th>\n",
       "      <td>7330.00</td>\n",
       "      <td>795.555556</td>\n",
       "      <td>214.444444</td>\n",
       "      <td>2.666667</td>\n",
       "      <td>7.333333</td>\n",
       "    </tr>\n",
       "    <tr>\n",
       "      <th>EAST DEVONPORT</th>\n",
       "      <td>7310.00</td>\n",
       "      <td>850.318333</td>\n",
       "      <td>212.593333</td>\n",
       "      <td>2.166667</td>\n",
       "      <td>10.083333</td>\n",
       "    </tr>\n",
       "    <tr>\n",
       "      <th>RAILTON</th>\n",
       "      <td>7305.00</td>\n",
       "      <td>840.000000</td>\n",
       "      <td>210.000000</td>\n",
       "      <td>3.000000</td>\n",
       "      <td>5.000000</td>\n",
       "    </tr>\n",
       "    <tr>\n",
       "      <th>MOORLEAH</th>\n",
       "      <td>7325.00</td>\n",
       "      <td>700.000000</td>\n",
       "      <td>210.000000</td>\n",
       "      <td>4.000000</td>\n",
       "      <td>3.000000</td>\n",
       "    </tr>\n",
       "    <tr>\n",
       "      <th>HILLCREST</th>\n",
       "      <td>7320.00</td>\n",
       "      <td>825.000000</td>\n",
       "      <td>206.250000</td>\n",
       "      <td>2.500000</td>\n",
       "      <td>8.250000</td>\n",
       "    </tr>\n",
       "    <tr>\n",
       "      <th>CRAYFISH CREEK</th>\n",
       "      <td>7321.00</td>\n",
       "      <td>500.000000</td>\n",
       "      <td>200.000000</td>\n",
       "      <td>2.000000</td>\n",
       "      <td>12.000000</td>\n",
       "    </tr>\n",
       "    <tr>\n",
       "      <th>CLARENDON VALE</th>\n",
       "      <td>7019.00</td>\n",
       "      <td>396.000000</td>\n",
       "      <td>198.000000</td>\n",
       "      <td>3.000000</td>\n",
       "      <td>12.000000</td>\n",
       "    </tr>\n",
       "    <tr>\n",
       "      <th>ST MARYS</th>\n",
       "      <td>7215.00</td>\n",
       "      <td>780.000000</td>\n",
       "      <td>195.000000</td>\n",
       "      <td>3.000000</td>\n",
       "      <td>5.000000</td>\n",
       "    </tr>\n",
       "    <tr>\n",
       "      <th>MAYDENA</th>\n",
       "      <td>7140.00</td>\n",
       "      <td>760.000000</td>\n",
       "      <td>190.000000</td>\n",
       "      <td>3.000000</td>\n",
       "      <td>7.000000</td>\n",
       "    </tr>\n",
       "    <tr>\n",
       "      <th>SOUTH BURNIE</th>\n",
       "      <td>7320.00</td>\n",
       "      <td>750.000000</td>\n",
       "      <td>187.500000</td>\n",
       "      <td>2.500000</td>\n",
       "      <td>6.500000</td>\n",
       "    </tr>\n",
       "    <tr>\n",
       "      <th>INVERMAY</th>\n",
       "      <td>7248.00</td>\n",
       "      <td>554.571429</td>\n",
       "      <td>180.785714</td>\n",
       "      <td>3.714286</td>\n",
       "      <td>6.428571</td>\n",
       "    </tr>\n",
       "    <tr>\n",
       "      <th>TULLAH</th>\n",
       "      <td>7321.00</td>\n",
       "      <td>720.000000</td>\n",
       "      <td>180.000000</td>\n",
       "      <td>2.000000</td>\n",
       "      <td>6.000000</td>\n",
       "    </tr>\n",
       "    <tr>\n",
       "      <th>ROSETTA</th>\n",
       "      <td>7010.00</td>\n",
       "      <td>700.000000</td>\n",
       "      <td>175.000000</td>\n",
       "      <td>1.000000</td>\n",
       "      <td>12.000000</td>\n",
       "    </tr>\n",
       "    <tr>\n",
       "      <th>ROSEBERY</th>\n",
       "      <td>7470.00</td>\n",
       "      <td>660.000000</td>\n",
       "      <td>165.000000</td>\n",
       "      <td>3.000000</td>\n",
       "      <td>5.000000</td>\n",
       "    </tr>\n",
       "    <tr>\n",
       "      <th>HAVENVIEW</th>\n",
       "      <td>7320.00</td>\n",
       "      <td>640.000000</td>\n",
       "      <td>160.000000</td>\n",
       "      <td>1.000000</td>\n",
       "      <td>7.000000</td>\n",
       "    </tr>\n",
       "    <tr>\n",
       "      <th>WAVERLEY</th>\n",
       "      <td>7250.00</td>\n",
       "      <td>260.000000</td>\n",
       "      <td>160.000000</td>\n",
       "      <td>1.333333</td>\n",
       "      <td>12.000000</td>\n",
       "    </tr>\n",
       "    <tr>\n",
       "      <th>SCAMANDER</th>\n",
       "      <td>7215.00</td>\n",
       "      <td>600.000000</td>\n",
       "      <td>150.000000</td>\n",
       "      <td>2.000000</td>\n",
       "      <td>12.000000</td>\n",
       "    </tr>\n",
       "    <tr>\n",
       "      <th>ZEEHAN</th>\n",
       "      <td>7469.00</td>\n",
       "      <td>590.000000</td>\n",
       "      <td>147.500000</td>\n",
       "      <td>2.333333</td>\n",
       "      <td>9.000000</td>\n",
       "    </tr>\n",
       "    <tr>\n",
       "      <th>QUEENSTOWN</th>\n",
       "      <td>7467.00</td>\n",
       "      <td>566.000000</td>\n",
       "      <td>141.500000</td>\n",
       "      <td>2.500000</td>\n",
       "      <td>6.666667</td>\n",
       "    </tr>\n",
       "    <tr>\n",
       "      <th>MOUNT RUMNEY</th>\n",
       "      <td>7170.00</td>\n",
       "      <td>560.000000</td>\n",
       "      <td>140.000000</td>\n",
       "      <td>2.000000</td>\n",
       "      <td>12.000000</td>\n",
       "    </tr>\n",
       "    <tr>\n",
       "      <th>NUBEENA</th>\n",
       "      <td>7184.00</td>\n",
       "      <td>560.000000</td>\n",
       "      <td>140.000000</td>\n",
       "      <td>2.000000</td>\n",
       "      <td>3.000000</td>\n",
       "    </tr>\n",
       "    <tr>\n",
       "      <th>LADY BARRON</th>\n",
       "      <td>7255.00</td>\n",
       "      <td>540.000000</td>\n",
       "      <td>135.000000</td>\n",
       "      <td>2.000000</td>\n",
       "      <td>12.000000</td>\n",
       "    </tr>\n",
       "    <tr>\n",
       "      <th>MURDUNNA</th>\n",
       "      <td>7178.00</td>\n",
       "      <td>400.000000</td>\n",
       "      <td>100.000000</td>\n",
       "      <td>1.000000</td>\n",
       "      <td>12.000000</td>\n",
       "    </tr>\n",
       "  </tbody>\n",
       "</table>\n",
       "<p>183 rows × 5 columns</p>\n",
       "</div>"
      ],
      "text/plain": [
       "                  Postcode  Bond Amount  Weekly Rent  No of Bedrooms  \\\n",
       "Suburb                                                                 \n",
       "DYNNYRNE           7005.00  3200.000000   800.000000        3.000000   \n",
       "BOTHWELL           7030.00  2600.000000   650.000000        3.000000   \n",
       "GLEBE              7000.00  2260.000000   595.000000        3.500000   \n",
       "NORTH HOBART       7000.00  2126.666667   532.916667        2.583333   \n",
       "BATTERY POINT      7004.00  1846.000000   489.000000        1.800000   \n",
       "GEILSTON BAY       7015.00  1880.000000   470.000000        3.000000   \n",
       "MOUNT STUART       7000.00  1866.666667   466.666667        3.000000   \n",
       "SEVEN MILE BEACH   7170.00  1840.000000   460.000000        3.000000   \n",
       "MARGATE            7054.00  1840.000000   460.000000        3.000000   \n",
       "OTAGO              7017.00   900.000000   450.000000        3.000000   \n",
       "ST LEONARDS        7250.00  1800.000000   450.000000        4.000000   \n",
       "TRANMERE           7018.00  1790.000000   447.500000        3.500000   \n",
       "SANDY BAY          7005.00  1785.882353   446.470588        2.029412   \n",
       "WEST HOBART        7000.00  1676.842105   436.578947        2.578947   \n",
       "RICHMOND           7025.00  1700.000000   425.000000        3.000000   \n",
       "FRANKLIN           7113.00  1680.000000   420.000000        3.000000   \n",
       "OLD BEACH          7017.25  1640.000000   410.000000        2.750000   \n",
       "OAKDOWNS           7019.00  1620.000000   405.000000        2.500000   \n",
       "SOMERSET           7322.00  1620.000000   405.000000        4.500000   \n",
       "SQUEAKING POINT    7307.00  1600.000000   400.000000        4.000000   \n",
       "KAROOLA            7267.00  1600.000000   400.000000        2.500000   \n",
       "CREMORNE           7024.00  1600.000000   400.000000        3.000000   \n",
       "MONTAGU BAY        7018.00   800.000000   400.000000        2.000000   \n",
       "LINDISFARNE        7015.00  1545.000000   399.583333        2.500000   \n",
       "LAUDERDALE         7021.00  1586.666667   396.666667        2.666667   \n",
       "GOODWOOD           7010.00  1570.000000   392.500000        3.000000   \n",
       "NORWOOD            7250.00  1560.000000   390.000000        3.250000   \n",
       "SNUG               7054.00  1560.000000   390.000000        3.000000   \n",
       "KINGSTON           7050.00  1550.000000   387.500000        2.555556   \n",
       "EAST LAUNCESTON    7250.00  1550.000000   387.500000        2.250000   \n",
       "...                    ...          ...          ...             ...   \n",
       "PARK GROVE         7320.00   913.333333   228.333333        2.333333   \n",
       "DELORAINE          7304.00   912.000000   228.000000        2.800000   \n",
       "UPPER BURNIE       7320.00   905.000000   226.250000        2.500000   \n",
       "MONTELLO           7320.00   890.000000   222.500000        2.000000   \n",
       "SHOREWELL PARK     7320.00   888.875000   222.253750        2.375000   \n",
       "ROSNY              7018.00   880.000000   220.000000        3.000000   \n",
       "YOUNGTOWN          7249.00   868.000000   217.000000        2.000000   \n",
       "SMITHTON           7330.00   795.555556   214.444444        2.666667   \n",
       "EAST DEVONPORT     7310.00   850.318333   212.593333        2.166667   \n",
       "RAILTON            7305.00   840.000000   210.000000        3.000000   \n",
       "MOORLEAH           7325.00   700.000000   210.000000        4.000000   \n",
       "HILLCREST          7320.00   825.000000   206.250000        2.500000   \n",
       "CRAYFISH CREEK     7321.00   500.000000   200.000000        2.000000   \n",
       "CLARENDON VALE     7019.00   396.000000   198.000000        3.000000   \n",
       "ST MARYS           7215.00   780.000000   195.000000        3.000000   \n",
       "MAYDENA            7140.00   760.000000   190.000000        3.000000   \n",
       "SOUTH BURNIE       7320.00   750.000000   187.500000        2.500000   \n",
       "INVERMAY           7248.00   554.571429   180.785714        3.714286   \n",
       "TULLAH             7321.00   720.000000   180.000000        2.000000   \n",
       "ROSETTA            7010.00   700.000000   175.000000        1.000000   \n",
       "ROSEBERY           7470.00   660.000000   165.000000        3.000000   \n",
       "HAVENVIEW          7320.00   640.000000   160.000000        1.000000   \n",
       "WAVERLEY           7250.00   260.000000   160.000000        1.333333   \n",
       "SCAMANDER          7215.00   600.000000   150.000000        2.000000   \n",
       "ZEEHAN             7469.00   590.000000   147.500000        2.333333   \n",
       "QUEENSTOWN         7467.00   566.000000   141.500000        2.500000   \n",
       "MOUNT RUMNEY       7170.00   560.000000   140.000000        2.000000   \n",
       "NUBEENA            7184.00   560.000000   140.000000        2.000000   \n",
       "LADY BARRON        7255.00   540.000000   135.000000        2.000000   \n",
       "MURDUNNA           7178.00   400.000000   100.000000        1.000000   \n",
       "\n",
       "                  Length of Tenancy (In Months)  \n",
       "Suburb                                           \n",
       "DYNNYRNE                              12.000000  \n",
       "BOTHWELL                              11.000000  \n",
       "GLEBE                                  9.000000  \n",
       "NORTH HOBART                           9.750000  \n",
       "BATTERY POINT                          9.600000  \n",
       "GEILSTON BAY                          12.000000  \n",
       "MOUNT STUART                           9.666667  \n",
       "SEVEN MILE BEACH                       6.000000  \n",
       "MARGATE                               12.000000  \n",
       "OTAGO                                 12.000000  \n",
       "ST LEONARDS                           12.000000  \n",
       "TRANMERE                              12.000000  \n",
       "SANDY BAY                              9.911765  \n",
       "WEST HOBART                           10.894737  \n",
       "RICHMOND                              12.000000  \n",
       "FRANKLIN                              12.000000  \n",
       "OLD BEACH                             12.000000  \n",
       "OAKDOWNS                              12.000000  \n",
       "SOMERSET                              12.000000  \n",
       "SQUEAKING POINT                        7.000000  \n",
       "KAROOLA                               12.000000  \n",
       "CREMORNE                              18.000000  \n",
       "MONTAGU BAY                           12.000000  \n",
       "LINDISFARNE                           11.333333  \n",
       "LAUDERDALE                             9.000000  \n",
       "GOODWOOD                              12.000000  \n",
       "NORWOOD                               10.750000  \n",
       "SNUG                                  12.000000  \n",
       "KINGSTON                              10.833333  \n",
       "EAST LAUNCESTON                       10.250000  \n",
       "...                                         ...  \n",
       "PARK GROVE                            12.000000  \n",
       "DELORAINE                              9.400000  \n",
       "UPPER BURNIE                          10.250000  \n",
       "MONTELLO                               9.500000  \n",
       "SHOREWELL PARK                         9.875000  \n",
       "ROSNY                                  6.000000  \n",
       "YOUNGTOWN                             10.800000  \n",
       "SMITHTON                               7.333333  \n",
       "EAST DEVONPORT                        10.083333  \n",
       "RAILTON                                5.000000  \n",
       "MOORLEAH                               3.000000  \n",
       "HILLCREST                              8.250000  \n",
       "CRAYFISH CREEK                        12.000000  \n",
       "CLARENDON VALE                        12.000000  \n",
       "ST MARYS                               5.000000  \n",
       "MAYDENA                                7.000000  \n",
       "SOUTH BURNIE                           6.500000  \n",
       "INVERMAY                               6.428571  \n",
       "TULLAH                                 6.000000  \n",
       "ROSETTA                               12.000000  \n",
       "ROSEBERY                               5.000000  \n",
       "HAVENVIEW                              7.000000  \n",
       "WAVERLEY                              12.000000  \n",
       "SCAMANDER                             12.000000  \n",
       "ZEEHAN                                 9.000000  \n",
       "QUEENSTOWN                             6.666667  \n",
       "MOUNT RUMNEY                          12.000000  \n",
       "NUBEENA                                3.000000  \n",
       "LADY BARRON                           12.000000  \n",
       "MURDUNNA                              12.000000  \n",
       "\n",
       "[183 rows x 5 columns]"
      ]
     },
     "execution_count": 120,
     "metadata": {},
     "output_type": "execute_result"
    }
   ],
   "source": [
    "df.groupby('Suburb').mean().sort_values(ascending=False,by='Weekly Rent')"
   ]
  },
  {
   "cell_type": "code",
   "execution_count": 121,
   "metadata": {},
   "outputs": [],
   "source": [
    "df_sorted_rent=df.groupby('Suburb').mean().sort_values(ascending=False,by='Weekly Rent')"
   ]
  },
  {
   "cell_type": "markdown",
   "metadata": {},
   "source": [
    "<h3>Rent distribution is near normal with a major right skew"
   ]
  },
  {
   "cell_type": "code",
   "execution_count": 123,
   "metadata": {},
   "outputs": [
    {
     "data": {
      "text/plain": [
       "<matplotlib.axes._subplots.AxesSubplot at 0x190a2e24b00>"
      ]
     },
     "execution_count": 123,
     "metadata": {},
     "output_type": "execute_result"
    },
    {
     "data": {
      "image/png": "[encoded data removed]",
      "text/plain": [
       "<Figure size 432x288 with 1 Axes>"
      ]
     },
     "metadata": {
      "needs_background": "light"
     },
     "output_type": "display_data"
    }
   ],
   "source": [
    "sns.distplot(df['Weekly Rent'])"
   ]
  },
  {
   "cell_type": "markdown",
   "metadata": {},
   "source": [
    "<h3>We can group by Dwelling and Suburb "
   ]
  },
  {
   "cell_type": "code",
   "execution_count": 159,
   "metadata": {},
   "outputs": [
    {
     "data": {
      "text/html": [
       "<div>\n",
       "<style scoped>\n",
       "    .dataframe tbody tr th:only-of-type {\n",
       "        vertical-align: middle;\n",
       "    }\n",
       "\n",
       "    .dataframe tbody tr th {\n",
       "        vertical-align: top;\n",
       "    }\n",
       "\n",
       "    .dataframe thead th {\n",
       "        text-align: right;\n",
       "    }\n",
       "</style>\n",
       "<table border=\"1\" class=\"dataframe\">\n",
       "  <thead>\n",
       "    <tr style=\"text-align: right;\">\n",
       "      <th></th>\n",
       "      <th></th>\n",
       "      <th>Weekly Rent</th>\n",
       "    </tr>\n",
       "    <tr>\n",
       "      <th>Dwelling/Premises Type</th>\n",
       "      <th>Suburb</th>\n",
       "      <th></th>\n",
       "    </tr>\n",
       "  </thead>\n",
       "  <tbody>\n",
       "    <tr>\n",
       "      <th rowspan=\"30\" valign=\"top\">FLAT OR UNIT OR APARTMENT</th>\n",
       "      <th>AUSTINS FERRY</th>\n",
       "      <td>340.000000</td>\n",
       "    </tr>\n",
       "    <tr>\n",
       "      <th>BATTERY POINT</th>\n",
       "      <td>406.666667</td>\n",
       "    </tr>\n",
       "    <tr>\n",
       "      <th>BELLERIVE</th>\n",
       "      <td>309.285714</td>\n",
       "    </tr>\n",
       "    <tr>\n",
       "      <th>BURNIE</th>\n",
       "      <td>306.666667</td>\n",
       "    </tr>\n",
       "    <tr>\n",
       "      <th>CLAREMONT</th>\n",
       "      <td>223.888889</td>\n",
       "    </tr>\n",
       "    <tr>\n",
       "      <th>DELORAINE</th>\n",
       "      <td>180.000000</td>\n",
       "    </tr>\n",
       "    <tr>\n",
       "      <th>DEVONPORT</th>\n",
       "      <td>206.464286</td>\n",
       "    </tr>\n",
       "    <tr>\n",
       "      <th>EAST DEVONPORT</th>\n",
       "      <td>157.427500</td>\n",
       "    </tr>\n",
       "    <tr>\n",
       "      <th>EAST LAUNCESTON</th>\n",
       "      <td>403.333333</td>\n",
       "    </tr>\n",
       "    <tr>\n",
       "      <th>EVANDALE</th>\n",
       "      <td>260.000000</td>\n",
       "    </tr>\n",
       "    <tr>\n",
       "      <th>GEORGE TOWN</th>\n",
       "      <td>190.000000</td>\n",
       "    </tr>\n",
       "    <tr>\n",
       "      <th>GLENORCHY</th>\n",
       "      <td>279.375000</td>\n",
       "    </tr>\n",
       "    <tr>\n",
       "      <th>HAVENVIEW</th>\n",
       "      <td>160.000000</td>\n",
       "    </tr>\n",
       "    <tr>\n",
       "      <th>HAWLEY BEACH</th>\n",
       "      <td>236.000000</td>\n",
       "    </tr>\n",
       "    <tr>\n",
       "      <th>HILLCREST</th>\n",
       "      <td>205.000000</td>\n",
       "    </tr>\n",
       "    <tr>\n",
       "      <th>HOBART</th>\n",
       "      <td>335.714286</td>\n",
       "    </tr>\n",
       "    <tr>\n",
       "      <th>HOWRAH</th>\n",
       "      <td>305.000000</td>\n",
       "    </tr>\n",
       "    <tr>\n",
       "      <th>HUONVILLE</th>\n",
       "      <td>187.500000</td>\n",
       "    </tr>\n",
       "    <tr>\n",
       "      <th>INVERMAY</th>\n",
       "      <td>205.250000</td>\n",
       "    </tr>\n",
       "    <tr>\n",
       "      <th>KINGS MEADOWS</th>\n",
       "      <td>250.000000</td>\n",
       "    </tr>\n",
       "    <tr>\n",
       "      <th>KINGSTON</th>\n",
       "      <td>326.428571</td>\n",
       "    </tr>\n",
       "    <tr>\n",
       "      <th>LADY BARRON</th>\n",
       "      <td>135.000000</td>\n",
       "    </tr>\n",
       "    <tr>\n",
       "      <th>LATROBE</th>\n",
       "      <td>237.750000</td>\n",
       "    </tr>\n",
       "    <tr>\n",
       "      <th>LAUNCESTON</th>\n",
       "      <td>338.148333</td>\n",
       "    </tr>\n",
       "    <tr>\n",
       "      <th>LENAH VALLEY</th>\n",
       "      <td>276.666667</td>\n",
       "    </tr>\n",
       "    <tr>\n",
       "      <th>LINDISFARNE</th>\n",
       "      <td>352.500000</td>\n",
       "    </tr>\n",
       "    <tr>\n",
       "      <th>LONGFORD</th>\n",
       "      <td>271.666667</td>\n",
       "    </tr>\n",
       "    <tr>\n",
       "      <th>LUTANA</th>\n",
       "      <td>217.500000</td>\n",
       "    </tr>\n",
       "    <tr>\n",
       "      <th>MIDWAY POINT</th>\n",
       "      <td>240.400000</td>\n",
       "    </tr>\n",
       "    <tr>\n",
       "      <th>MONTELLO</th>\n",
       "      <td>165.000000</td>\n",
       "    </tr>\n",
       "    <tr>\n",
       "      <th>...</th>\n",
       "      <th>...</th>\n",
       "      <td>...</td>\n",
       "    </tr>\n",
       "    <tr>\n",
       "      <th rowspan=\"30\" valign=\"top\">UNSPECIFIED</th>\n",
       "      <th>INVERMAY</th>\n",
       "      <td>100.000000</td>\n",
       "    </tr>\n",
       "    <tr>\n",
       "      <th>KINGS MEADOWS</th>\n",
       "      <td>278.333333</td>\n",
       "    </tr>\n",
       "    <tr>\n",
       "      <th>KINGSTON</th>\n",
       "      <td>430.000000</td>\n",
       "    </tr>\n",
       "    <tr>\n",
       "      <th>LAUNCESTON</th>\n",
       "      <td>206.500000</td>\n",
       "    </tr>\n",
       "    <tr>\n",
       "      <th>LEGANA</th>\n",
       "      <td>397.500000</td>\n",
       "    </tr>\n",
       "    <tr>\n",
       "      <th>LILYDALE</th>\n",
       "      <td>320.000000</td>\n",
       "    </tr>\n",
       "    <tr>\n",
       "      <th>LINDISFARNE</th>\n",
       "      <td>410.000000</td>\n",
       "    </tr>\n",
       "    <tr>\n",
       "      <th>MIDWAY POINT</th>\n",
       "      <td>180.000000</td>\n",
       "    </tr>\n",
       "    <tr>\n",
       "      <th>MOONAH</th>\n",
       "      <td>305.000000</td>\n",
       "    </tr>\n",
       "    <tr>\n",
       "      <th>NEW NORFOLK</th>\n",
       "      <td>300.000000</td>\n",
       "    </tr>\n",
       "    <tr>\n",
       "      <th>NEW TOWN</th>\n",
       "      <td>145.000000</td>\n",
       "    </tr>\n",
       "    <tr>\n",
       "      <th>NEWNHAM</th>\n",
       "      <td>212.500000</td>\n",
       "    </tr>\n",
       "    <tr>\n",
       "      <th>NEWSTEAD</th>\n",
       "      <td>380.000000</td>\n",
       "    </tr>\n",
       "    <tr>\n",
       "      <th>NORTH HOBART</th>\n",
       "      <td>530.000000</td>\n",
       "    </tr>\n",
       "    <tr>\n",
       "      <th>OAKDOWNS</th>\n",
       "      <td>460.000000</td>\n",
       "    </tr>\n",
       "    <tr>\n",
       "      <th>PRIMROSE SANDS</th>\n",
       "      <td>260.000000</td>\n",
       "    </tr>\n",
       "    <tr>\n",
       "      <th>PROSPECT VALE</th>\n",
       "      <td>325.000000</td>\n",
       "    </tr>\n",
       "    <tr>\n",
       "      <th>RISDON VALE</th>\n",
       "      <td>320.000000</td>\n",
       "    </tr>\n",
       "    <tr>\n",
       "      <th>SANDY BAY</th>\n",
       "      <td>611.666667</td>\n",
       "    </tr>\n",
       "    <tr>\n",
       "      <th>SASSAFRAS</th>\n",
       "      <td>340.000000</td>\n",
       "    </tr>\n",
       "    <tr>\n",
       "      <th>SHEARWATER</th>\n",
       "      <td>300.000000</td>\n",
       "    </tr>\n",
       "    <tr>\n",
       "      <th>SHOREWELL PARK</th>\n",
       "      <td>196.880000</td>\n",
       "    </tr>\n",
       "    <tr>\n",
       "      <th>SOUTH HOBART</th>\n",
       "      <td>265.000000</td>\n",
       "    </tr>\n",
       "    <tr>\n",
       "      <th>SOUTH LAUNCESTON</th>\n",
       "      <td>500.000000</td>\n",
       "    </tr>\n",
       "    <tr>\n",
       "      <th>SQUEAKING POINT</th>\n",
       "      <td>400.000000</td>\n",
       "    </tr>\n",
       "    <tr>\n",
       "      <th>ULVERSTONE</th>\n",
       "      <td>170.000000</td>\n",
       "    </tr>\n",
       "    <tr>\n",
       "      <th>UPPER BURNIE</th>\n",
       "      <td>150.000000</td>\n",
       "    </tr>\n",
       "    <tr>\n",
       "      <th>WARRANE</th>\n",
       "      <td>330.000000</td>\n",
       "    </tr>\n",
       "    <tr>\n",
       "      <th>WEST HOBART</th>\n",
       "      <td>463.333333</td>\n",
       "    </tr>\n",
       "    <tr>\n",
       "      <th>WEST MOONAH</th>\n",
       "      <td>167.000000</td>\n",
       "    </tr>\n",
       "  </tbody>\n",
       "</table>\n",
       "<p>301 rows × 1 columns</p>\n",
       "</div>"
      ],
      "text/plain": [
       "                                            Weekly Rent\n",
       "Dwelling/Premises Type    Suburb                       \n",
       "FLAT OR UNIT OR APARTMENT AUSTINS FERRY      340.000000\n",
       "                          BATTERY POINT      406.666667\n",
       "                          BELLERIVE          309.285714\n",
       "                          BURNIE             306.666667\n",
       "                          CLAREMONT          223.888889\n",
       "                          DELORAINE          180.000000\n",
       "                          DEVONPORT          206.464286\n",
       "                          EAST DEVONPORT     157.427500\n",
       "                          EAST LAUNCESTON    403.333333\n",
       "                          EVANDALE           260.000000\n",
       "                          GEORGE TOWN        190.000000\n",
       "                          GLENORCHY          279.375000\n",
       "                          HAVENVIEW          160.000000\n",
       "                          HAWLEY BEACH       236.000000\n",
       "                          HILLCREST          205.000000\n",
       "                          HOBART             335.714286\n",
       "                          HOWRAH             305.000000\n",
       "                          HUONVILLE          187.500000\n",
       "                          INVERMAY           205.250000\n",
       "                          KINGS MEADOWS      250.000000\n",
       "                          KINGSTON           326.428571\n",
       "                          LADY BARRON        135.000000\n",
       "                          LATROBE            237.750000\n",
       "                          LAUNCESTON         338.148333\n",
       "                          LENAH VALLEY       276.666667\n",
       "                          LINDISFARNE        352.500000\n",
       "                          LONGFORD           271.666667\n",
       "                          LUTANA             217.500000\n",
       "                          MIDWAY POINT       240.400000\n",
       "                          MONTELLO           165.000000\n",
       "...                                                 ...\n",
       "UNSPECIFIED               INVERMAY           100.000000\n",
       "                          KINGS MEADOWS      278.333333\n",
       "                          KINGSTON           430.000000\n",
       "                          LAUNCESTON         206.500000\n",
       "                          LEGANA             397.500000\n",
       "                          LILYDALE           320.000000\n",
       "                          LINDISFARNE        410.000000\n",
       "                          MIDWAY POINT       180.000000\n",
       "                          MOONAH             305.000000\n",
       "                          NEW NORFOLK        300.000000\n",
       "                          NEW TOWN           145.000000\n",
       "                          NEWNHAM            212.500000\n",
       "                          NEWSTEAD           380.000000\n",
       "                          NORTH HOBART       530.000000\n",
       "                          OAKDOWNS           460.000000\n",
       "                          PRIMROSE SANDS     260.000000\n",
       "                          PROSPECT VALE      325.000000\n",
       "                          RISDON VALE        320.000000\n",
       "                          SANDY BAY          611.666667\n",
       "                          SASSAFRAS          340.000000\n",
       "                          SHEARWATER         300.000000\n",
       "                          SHOREWELL PARK     196.880000\n",
       "                          SOUTH HOBART       265.000000\n",
       "                          SOUTH LAUNCESTON   500.000000\n",
       "                          SQUEAKING POINT    400.000000\n",
       "                          ULVERSTONE         170.000000\n",
       "                          UPPER BURNIE       150.000000\n",
       "                          WARRANE            330.000000\n",
       "                          WEST HOBART        463.333333\n",
       "                          WEST MOONAH        167.000000\n",
       "\n",
       "[301 rows x 1 columns]"
      ]
     },
     "execution_count": 159,
     "metadata": {},
     "output_type": "execute_result"
    }
   ],
   "source": [
    "df.groupby(['Dwelling/Premises Type','Suburb']).mean()[['Weekly Rent']]"
   ]
  },
  {
   "cell_type": "code",
   "execution_count": 164,
   "metadata": {},
   "outputs": [
    {
     "data": {
      "image/png": "[encoded data removed]",
      "text/plain": [
       "<Figure size 432x288 with 1 Axes>"
      ]
     },
     "metadata": {
      "needs_background": "light"
     },
     "output_type": "display_data"
    }
   ],
   "source": [
    "plt.boxplot(df.groupby(['Dwelling/Premises Type','Suburb']).get_group(('FLAT OR UNIT OR APARTMENT','WEST MOONAH'))['Weekly Rent'])\n",
    "plt.show()"
   ]
  },
  {
   "cell_type": "markdown",
   "metadata": {},
   "source": [
    "<h3>Mean weekly rent(grouped by Suburb) shows a near normal distribution with a right skew similar to population distribution of rents"
   ]
  },
  {
   "cell_type": "code",
   "execution_count": 176,
   "metadata": {},
   "outputs": [
    {
     "data": {
      "image/png": "[encoded data removed]",
      "text/plain": [
       "<Figure size 432x288 with 1 Axes>"
      ]
     },
     "metadata": {
      "needs_background": "light"
     },
     "output_type": "display_data"
    }
   ],
   "source": [
    "sns.distplot(df_sorted_rent[['Weekly Rent']])\n",
    "plt.show()"
   ]
  },
  {
   "cell_type": "code",
   "execution_count": 177,
   "metadata": {},
   "outputs": [
    {
     "data": {
      "text/plain": [
       "<matplotlib.collections.PathCollection at 0x190aa0cfa58>"
      ]
     },
     "execution_count": 177,
     "metadata": {},
     "output_type": "execute_result"
    },
    {
     "data": {
      "image/png": "[encoded data removed]",
      "text/plain": [
       "<Figure size 432x288 with 1 Axes>"
      ]
     },
     "metadata": {
      "needs_background": "light"
     },
     "output_type": "display_data"
    }
   ],
   "source": [
    "plt.scatter(df_sorted_rent['Postcode'],df_sorted_rent['Weekly Rent'])"
   ]
  },
  {
   "cell_type": "markdown",
   "metadata": {},
   "source": [
    "<h3>Lets check the correlation between the variables and the house rent "
   ]
  },
  {
   "cell_type": "code",
   "execution_count": 178,
   "metadata": {},
   "outputs": [],
   "source": [
    "import scipy"
   ]
  },
  {
   "cell_type": "code",
   "execution_count": 180,
   "metadata": {},
   "outputs": [
    {
     "data": {
      "text/plain": [
       "(-0.4957212764516167, 9.681394455946104e-13)"
      ]
     },
     "execution_count": 180,
     "metadata": {},
     "output_type": "execute_result"
    }
   ],
   "source": [
    "scipy.stats.pearsonr(df_sorted_rent['Postcode'],df_sorted_rent['Weekly Rent'])"
   ]
  },
  {
   "cell_type": "code",
   "execution_count": 182,
   "metadata": {},
   "outputs": [
    {
     "data": {
      "text/plain": [
       "(0.2890652041216492, 7.22760232060482e-05)"
      ]
     },
     "execution_count": 182,
     "metadata": {},
     "output_type": "execute_result"
    }
   ],
   "source": [
    "scipy.stats.pearsonr(df_sorted_rent['No of Bedrooms'],df_sorted_rent['Weekly Rent'])"
   ]
  },
  {
   "cell_type": "code",
   "execution_count": 184,
   "metadata": {},
   "outputs": [
    {
     "data": {
      "text/plain": [
       "(0.1293961002095943, 0.08084733318715674)"
      ]
     },
     "execution_count": 184,
     "metadata": {},
     "output_type": "execute_result"
    }
   ],
   "source": [
    "scipy.stats.pearsonr(df_sorted_rent['Length of Tenancy (In Months)'],df_sorted_rent['Weekly Rent'])"
   ]
  },
  {
   "cell_type": "code",
   "execution_count": 187,
   "metadata": {},
   "outputs": [
    {
     "data": {
      "text/html": [
       "<div>\n",
       "<style scoped>\n",
       "    .dataframe tbody tr th:only-of-type {\n",
       "        vertical-align: middle;\n",
       "    }\n",
       "\n",
       "    .dataframe tbody tr th {\n",
       "        vertical-align: top;\n",
       "    }\n",
       "\n",
       "    .dataframe thead th {\n",
       "        text-align: right;\n",
       "    }\n",
       "</style>\n",
       "<table border=\"1\" class=\"dataframe\">\n",
       "  <thead>\n",
       "    <tr style=\"text-align: right;\">\n",
       "      <th></th>\n",
       "      <th>Postcode</th>\n",
       "      <th>Bond Amount</th>\n",
       "      <th>Weekly Rent</th>\n",
       "      <th>No of Bedrooms</th>\n",
       "      <th>Length of Tenancy (In Months)</th>\n",
       "    </tr>\n",
       "  </thead>\n",
       "  <tbody>\n",
       "    <tr>\n",
       "      <th>Postcode</th>\n",
       "      <td>1.000000</td>\n",
       "      <td>-0.373783</td>\n",
       "      <td>-0.393038</td>\n",
       "      <td>0.019895</td>\n",
       "      <td>-0.065903</td>\n",
       "    </tr>\n",
       "    <tr>\n",
       "      <th>Bond Amount</th>\n",
       "      <td>-0.373783</td>\n",
       "      <td>1.000000</td>\n",
       "      <td>0.933347</td>\n",
       "      <td>0.332350</td>\n",
       "      <td>0.038732</td>\n",
       "    </tr>\n",
       "    <tr>\n",
       "      <th>Weekly Rent</th>\n",
       "      <td>-0.393038</td>\n",
       "      <td>0.933347</td>\n",
       "      <td>1.000000</td>\n",
       "      <td>0.348909</td>\n",
       "      <td>0.048356</td>\n",
       "    </tr>\n",
       "    <tr>\n",
       "      <th>No of Bedrooms</th>\n",
       "      <td>0.019895</td>\n",
       "      <td>0.332350</td>\n",
       "      <td>0.348909</td>\n",
       "      <td>1.000000</td>\n",
       "      <td>0.001321</td>\n",
       "    </tr>\n",
       "    <tr>\n",
       "      <th>Length of Tenancy (In Months)</th>\n",
       "      <td>-0.065903</td>\n",
       "      <td>0.038732</td>\n",
       "      <td>0.048356</td>\n",
       "      <td>0.001321</td>\n",
       "      <td>1.000000</td>\n",
       "    </tr>\n",
       "  </tbody>\n",
       "</table>\n",
       "</div>"
      ],
      "text/plain": [
       "                               Postcode  Bond Amount  Weekly Rent  \\\n",
       "Postcode                       1.000000    -0.373783    -0.393038   \n",
       "Bond Amount                   -0.373783     1.000000     0.933347   \n",
       "Weekly Rent                   -0.393038     0.933347     1.000000   \n",
       "No of Bedrooms                 0.019895     0.332350     0.348909   \n",
       "Length of Tenancy (In Months) -0.065903     0.038732     0.048356   \n",
       "\n",
       "                               No of Bedrooms  Length of Tenancy (In Months)  \n",
       "Postcode                             0.019895                      -0.065903  \n",
       "Bond Amount                          0.332350                       0.038732  \n",
       "Weekly Rent                          0.348909                       0.048356  \n",
       "No of Bedrooms                       1.000000                       0.001321  \n",
       "Length of Tenancy (In Months)        0.001321                       1.000000  "
      ]
     },
     "execution_count": 187,
     "metadata": {},
     "output_type": "execute_result"
    }
   ],
   "source": [
    "df.corr()"
   ]
  },
  {
   "cell_type": "markdown",
   "metadata": {},
   "source": [
    "<h2>3rd degree polynomial can be fitted to scatter plot of postcodes vs rent as follows"
   ]
  },
  {
   "cell_type": "code",
   "execution_count": 203,
   "metadata": {},
   "outputs": [
    {
     "name": "stdout",
     "output_type": "stream",
     "text": [
      "            3          2\n",
      "-8.525e-06 x + 0.1849 x - 1336 x + 3.22e+06\n"
     ]
    }
   ],
   "source": [
    "p=np.polyfit(deg=3,x=df_sorted_rent['Postcode'],y=df_sorted_rent['Weekly Rent'])\n",
    "f=np.poly1d(p)\n",
    "print(f)\n"
   ]
  },
  {
   "cell_type": "code",
   "execution_count": 204,
   "metadata": {},
   "outputs": [
    {
     "data": {
      "text/plain": [
       "[<matplotlib.lines.Line2D at 0x190ab4882e8>]"
      ]
     },
     "execution_count": 204,
     "metadata": {},
     "output_type": "execute_result"
    },
    {
     "data": {
      "image/png": "[encoded data removed]",
      "text/plain": [
       "<Figure size 432x288 with 1 Axes>"
      ]
     },
     "metadata": {
      "needs_background": "light"
     },
     "output_type": "display_data"
    }
   ],
   "source": [
    "x=df_sorted_rent[['Postcode']]\n",
    "plt.plot(x,f(x),'.')\n",
    "plt.plot(df_sorted_rent['Postcode'],df_sorted_rent['Weekly Rent'],'.')"
   ]
  },
  {
   "cell_type": "code",
   "execution_count": 206,
   "metadata": {},
   "outputs": [
    {
     "data": {
      "text/html": [
       "<div>\n",
       "<style scoped>\n",
       "    .dataframe tbody tr th:only-of-type {\n",
       "        vertical-align: middle;\n",
       "    }\n",
       "\n",
       "    .dataframe tbody tr th {\n",
       "        vertical-align: top;\n",
       "    }\n",
       "\n",
       "    .dataframe thead th {\n",
       "        text-align: right;\n",
       "    }\n",
       "</style>\n",
       "<table border=\"1\" class=\"dataframe\">\n",
       "  <thead>\n",
       "    <tr style=\"text-align: right;\">\n",
       "      <th></th>\n",
       "      <th>Suburb</th>\n",
       "      <th>State</th>\n",
       "      <th>Postcode</th>\n",
       "      <th>Bond Amount</th>\n",
       "      <th>Weekly Rent</th>\n",
       "      <th>Bond Lodgement date (DD/MM/YYYY)</th>\n",
       "      <th>Bond Activation date (DD/MM/YYYY)</th>\n",
       "      <th>No of Bedrooms</th>\n",
       "      <th>Dwelling/Premises Type</th>\n",
       "      <th>Length of Tenancy (In Months)</th>\n",
       "    </tr>\n",
       "  </thead>\n",
       "  <tbody>\n",
       "    <tr>\n",
       "      <th>3</th>\n",
       "      <td>LAUNCESTON</td>\n",
       "      <td>TAS</td>\n",
       "      <td>7250</td>\n",
       "      <td>1272.0</td>\n",
       "      <td>318.00</td>\n",
       "      <td>2018-06-01</td>\n",
       "      <td>2018-06-01</td>\n",
       "      <td>1.0</td>\n",
       "      <td>FLAT OR UNIT OR APARTMENT</td>\n",
       "      <td>3</td>\n",
       "    </tr>\n",
       "    <tr>\n",
       "      <th>45</th>\n",
       "      <td>LAUNCESTON</td>\n",
       "      <td>TAS</td>\n",
       "      <td>7250</td>\n",
       "      <td>820.0</td>\n",
       "      <td>205.00</td>\n",
       "      <td>2018-06-01</td>\n",
       "      <td>2018-06-08</td>\n",
       "      <td>1.0</td>\n",
       "      <td>FLAT OR UNIT OR APARTMENT</td>\n",
       "      <td>6</td>\n",
       "    </tr>\n",
       "    <tr>\n",
       "      <th>75</th>\n",
       "      <td>LAUNCESTON</td>\n",
       "      <td>TAS</td>\n",
       "      <td>7250</td>\n",
       "      <td>1200.0</td>\n",
       "      <td>320.00</td>\n",
       "      <td>2018-06-04</td>\n",
       "      <td>2018-06-15</td>\n",
       "      <td>2.0</td>\n",
       "      <td>SEPARATE HOUSE</td>\n",
       "      <td>8</td>\n",
       "    </tr>\n",
       "    <tr>\n",
       "      <th>105</th>\n",
       "      <td>LAUNCESTON</td>\n",
       "      <td>TAS</td>\n",
       "      <td>7250</td>\n",
       "      <td>1200.0</td>\n",
       "      <td>305.89</td>\n",
       "      <td>2018-06-04</td>\n",
       "      <td>2018-06-06</td>\n",
       "      <td>1.0</td>\n",
       "      <td>FLAT OR UNIT OR APARTMENT</td>\n",
       "      <td>12</td>\n",
       "    </tr>\n",
       "    <tr>\n",
       "      <th>192</th>\n",
       "      <td>LAUNCESTON</td>\n",
       "      <td>TAS</td>\n",
       "      <td>7250</td>\n",
       "      <td>2300.0</td>\n",
       "      <td>575.00</td>\n",
       "      <td>2018-06-05</td>\n",
       "      <td>2018-06-13</td>\n",
       "      <td>3.0</td>\n",
       "      <td>SEPARATE HOUSE</td>\n",
       "      <td>18</td>\n",
       "    </tr>\n",
       "    <tr>\n",
       "      <th>239</th>\n",
       "      <td>LAUNCESTON</td>\n",
       "      <td>TAS</td>\n",
       "      <td>7250</td>\n",
       "      <td>1360.0</td>\n",
       "      <td>340.00</td>\n",
       "      <td>2018-06-06</td>\n",
       "      <td>2018-06-15</td>\n",
       "      <td>2.0</td>\n",
       "      <td>UNSPECIFIED</td>\n",
       "      <td>11</td>\n",
       "    </tr>\n",
       "    <tr>\n",
       "      <th>259</th>\n",
       "      <td>LAUNCESTON</td>\n",
       "      <td>TAS</td>\n",
       "      <td>7250</td>\n",
       "      <td>146.0</td>\n",
       "      <td>73.00</td>\n",
       "      <td>2018-06-06</td>\n",
       "      <td>2018-06-14</td>\n",
       "      <td>1.0</td>\n",
       "      <td>UNSPECIFIED</td>\n",
       "      <td>0</td>\n",
       "    </tr>\n",
       "    <tr>\n",
       "      <th>479</th>\n",
       "      <td>LAUNCESTON</td>\n",
       "      <td>TAS</td>\n",
       "      <td>7250</td>\n",
       "      <td>2600.0</td>\n",
       "      <td>650.00</td>\n",
       "      <td>2018-06-12</td>\n",
       "      <td>2018-06-14</td>\n",
       "      <td>3.0</td>\n",
       "      <td>SEPARATE HOUSE</td>\n",
       "      <td>6</td>\n",
       "    </tr>\n",
       "    <tr>\n",
       "      <th>733</th>\n",
       "      <td>LAUNCESTON</td>\n",
       "      <td>TAS</td>\n",
       "      <td>7250</td>\n",
       "      <td>1800.0</td>\n",
       "      <td>450.00</td>\n",
       "      <td>2018-06-18</td>\n",
       "      <td>2018-06-25</td>\n",
       "      <td>2.0</td>\n",
       "      <td>SEPARATE HOUSE</td>\n",
       "      <td>12</td>\n",
       "    </tr>\n",
       "    <tr>\n",
       "      <th>741</th>\n",
       "      <td>LAUNCESTON</td>\n",
       "      <td>TAS</td>\n",
       "      <td>7250</td>\n",
       "      <td>2000.0</td>\n",
       "      <td>500.00</td>\n",
       "      <td>2018-06-18</td>\n",
       "      <td>2018-06-22</td>\n",
       "      <td>2.0</td>\n",
       "      <td>FLAT OR UNIT OR APARTMENT</td>\n",
       "      <td>6</td>\n",
       "    </tr>\n",
       "    <tr>\n",
       "      <th>787</th>\n",
       "      <td>LAUNCESTON</td>\n",
       "      <td>TAS</td>\n",
       "      <td>7250</td>\n",
       "      <td>1020.0</td>\n",
       "      <td>255.00</td>\n",
       "      <td>2018-06-19</td>\n",
       "      <td>2018-06-25</td>\n",
       "      <td>2.0</td>\n",
       "      <td>SEPARATE HOUSE</td>\n",
       "      <td>7</td>\n",
       "    </tr>\n",
       "    <tr>\n",
       "      <th>805</th>\n",
       "      <td>LAUNCESTON</td>\n",
       "      <td>TAS</td>\n",
       "      <td>7250</td>\n",
       "      <td>800.0</td>\n",
       "      <td>200.00</td>\n",
       "      <td>2018-06-19</td>\n",
       "      <td>2018-06-27</td>\n",
       "      <td>1.0</td>\n",
       "      <td>FLAT OR UNIT OR APARTMENT</td>\n",
       "      <td>12</td>\n",
       "    </tr>\n",
       "    <tr>\n",
       "      <th>1031</th>\n",
       "      <td>LAUNCESTON</td>\n",
       "      <td>TAS</td>\n",
       "      <td>7250</td>\n",
       "      <td>2000.0</td>\n",
       "      <td>500.00</td>\n",
       "      <td>2018-06-26</td>\n",
       "      <td>2018-06-28</td>\n",
       "      <td>2.0</td>\n",
       "      <td>FLAT OR UNIT OR APARTMENT</td>\n",
       "      <td>15</td>\n",
       "    </tr>\n",
       "  </tbody>\n",
       "</table>\n",
       "</div>"
      ],
      "text/plain": [
       "          Suburb State  Postcode  Bond Amount  Weekly Rent  \\\n",
       "3     LAUNCESTON   TAS      7250       1272.0       318.00   \n",
       "45    LAUNCESTON   TAS      7250        820.0       205.00   \n",
       "75    LAUNCESTON   TAS      7250       1200.0       320.00   \n",
       "105   LAUNCESTON   TAS      7250       1200.0       305.89   \n",
       "192   LAUNCESTON   TAS      7250       2300.0       575.00   \n",
       "239   LAUNCESTON   TAS      7250       1360.0       340.00   \n",
       "259   LAUNCESTON   TAS      7250        146.0        73.00   \n",
       "479   LAUNCESTON   TAS      7250       2600.0       650.00   \n",
       "733   LAUNCESTON   TAS      7250       1800.0       450.00   \n",
       "741   LAUNCESTON   TAS      7250       2000.0       500.00   \n",
       "787   LAUNCESTON   TAS      7250       1020.0       255.00   \n",
       "805   LAUNCESTON   TAS      7250        800.0       200.00   \n",
       "1031  LAUNCESTON   TAS      7250       2000.0       500.00   \n",
       "\n",
       "     Bond Lodgement date (DD/MM/YYYY) Bond Activation date (DD/MM/YYYY)  \\\n",
       "3                          2018-06-01                        2018-06-01   \n",
       "45                         2018-06-01                        2018-06-08   \n",
       "75                         2018-06-04                        2018-06-15   \n",
       "105                        2018-06-04                        2018-06-06   \n",
       "192                        2018-06-05                        2018-06-13   \n",
       "239                        2018-06-06                        2018-06-15   \n",
       "259                        2018-06-06                        2018-06-14   \n",
       "479                        2018-06-12                        2018-06-14   \n",
       "733                        2018-06-18                        2018-06-25   \n",
       "741                        2018-06-18                        2018-06-22   \n",
       "787                        2018-06-19                        2018-06-25   \n",
       "805                        2018-06-19                        2018-06-27   \n",
       "1031                       2018-06-26                        2018-06-28   \n",
       "\n",
       "      No of Bedrooms     Dwelling/Premises Type  Length of Tenancy (In Months)  \n",
       "3                1.0  FLAT OR UNIT OR APARTMENT                              3  \n",
       "45               1.0  FLAT OR UNIT OR APARTMENT                              6  \n",
       "75               2.0             SEPARATE HOUSE                              8  \n",
       "105              1.0  FLAT OR UNIT OR APARTMENT                             12  \n",
       "192              3.0             SEPARATE HOUSE                             18  \n",
       "239              2.0                UNSPECIFIED                             11  \n",
       "259              1.0                UNSPECIFIED                              0  \n",
       "479              3.0             SEPARATE HOUSE                              6  \n",
       "733              2.0             SEPARATE HOUSE                             12  \n",
       "741              2.0  FLAT OR UNIT OR APARTMENT                              6  \n",
       "787              2.0             SEPARATE HOUSE                              7  \n",
       "805              1.0  FLAT OR UNIT OR APARTMENT                             12  \n",
       "1031             2.0  FLAT OR UNIT OR APARTMENT                             15  "
      ]
     },
     "execution_count": 206,
     "metadata": {},
     "output_type": "execute_result"
    }
   ],
   "source": [
    "df.groupby('Suburb').get_group('LAUNCESTON')"
   ]
  },
  {
   "cell_type": "markdown",
   "metadata": {},
   "source": [
    "<h3>Mean prices of house rent in Launceston area increases with the no of bedrooms. more spread of data can be detected for 2 bedroom houses"
   ]
  },
  {
   "cell_type": "code",
   "execution_count": 207,
   "metadata": {},
   "outputs": [],
   "source": [
    "df_laun = df.groupby('Suburb').get_group('LAUNCESTON')"
   ]
  },
  {
   "cell_type": "code",
   "execution_count": 211,
   "metadata": {},
   "outputs": [
    {
     "data": {
      "text/plain": [
       "<matplotlib.axes._subplots.AxesSubplot at 0x190ace2f828>"
      ]
     },
     "execution_count": 211,
     "metadata": {},
     "output_type": "execute_result"
    },
    {
     "data": {
      "image/png": "[encoded data removed]",
      "text/plain": [
       "<Figure size 432x288 with 1 Axes>"
      ]
     },
     "metadata": {
      "needs_background": "light"
     },
     "output_type": "display_data"
    }
   ],
   "source": [
    "sns.boxplot(x=df_laun['No of Bedrooms'],y=df_laun['Weekly Rent'])"
   ]
  },
  {
   "cell_type": "code",
   "execution_count": 212,
   "metadata": {},
   "outputs": [
    {
     "data": {
      "text/plain": [
       "Index(['Suburb', 'State', 'Postcode', 'Bond Amount', 'Weekly Rent',\n",
       "       'Bond Lodgement date (DD/MM/YYYY)', 'Bond Activation date (DD/MM/YYYY)',\n",
       "       'No of Bedrooms', 'Dwelling/Premises Type',\n",
       "       'Length of Tenancy (In Months)'],\n",
       "      dtype='object')"
      ]
     },
     "execution_count": 212,
     "metadata": {},
     "output_type": "execute_result"
    }
   ],
   "source": [
    "df.columns"
   ]
  },
  {
   "cell_type": "markdown",
   "metadata": {},
   "source": [
    "<h2>Let's split the data set as train and test"
   ]
  },
  {
   "cell_type": "code",
   "execution_count": 213,
   "metadata": {},
   "outputs": [],
   "source": [
    "df_predictions= df[['Postcode','No of Bedrooms','Length of Tenancy (In Months)','Weekly Rent']]"
   ]
  },
  {
   "cell_type": "code",
   "execution_count": 214,
   "metadata": {},
   "outputs": [],
   "source": [
    "from sklearn.model_selection import train_test_split\n",
    "from sklearn.linear_model import LinearRegression"
   ]
  },
  {
   "cell_type": "code",
   "execution_count": 216,
   "metadata": {},
   "outputs": [],
   "source": [
    "X_train,X_test,y_train,y_test=train_test_split(df_predictions[['Postcode','No of Bedrooms','Length of Tenancy (In Months)']],df_predictions[['Weekly Rent']],test_size=0.3)"
   ]
  },
  {
   "cell_type": "code",
   "execution_count": 220,
   "metadata": {},
   "outputs": [],
   "source": [
    "from sklearn.pipeline import Pipeline"
   ]
  },
  {
   "cell_type": "markdown",
   "metadata": {},
   "source": [
    "<h2>The below function will plot the R scores for various degrees of polynomial features and 2 seems to be the best score "
   ]
  },
  {
   "cell_type": "code",
   "execution_count": 223,
   "metadata": {},
   "outputs": [],
   "source": [
    "def get_poly_degree_graph(Z_train,Z_test,y_train,y_test):\n",
    "    from sklearn.preprocessing import PolynomialFeatures\n",
    "    from sklearn.linear_model import LinearRegression\n",
    "    import matplotlib.pyplot as plt\n",
    "    scores =[]\n",
    "    order =[1,2,3,4,5,6,7,8,9]\n",
    "    for n in order:\n",
    "        pr=PolynomialFeatures(degree=n)\n",
    "        Z_train_pr=pr.fit_transform(Z_train)\n",
    "        Z_test_pr=pr.fit_transform(Z_test)\n",
    "        lm=LinearRegression()\n",
    "        lm.fit(Z_train_pr,y_train)\n",
    "        scores.append(lm.score(Z_test_pr,y_test))\n",
    "    plt.plot(order,scores,'-')\n",
    "    plt.ylabel('R score')\n",
    "    plt.show()"
   ]
  },
  {
   "cell_type": "code",
   "execution_count": 224,
   "metadata": {},
   "outputs": [
    {
     "data": {
      "image/png": "[encoded data removed]",
      "text/plain": [
       "<Figure size 432x288 with 1 Axes>"
      ]
     },
     "metadata": {
      "needs_background": "light"
     },
     "output_type": "display_data"
    }
   ],
   "source": [
    "get_poly_degree_graph(X_train,X_test,y_train,y_test)"
   ]
  },
  {
   "cell_type": "markdown",
   "metadata": {},
   "source": [
    "<h2>Lets use the linear Model to predict the house prices"
   ]
  },
  {
   "cell_type": "code",
   "execution_count": 226,
   "metadata": {},
   "outputs": [],
   "source": [
    "from sklearn.preprocessing import PolynomialFeatures\n",
    "from sklearn.preprocessing import StandardScaler\n"
   ]
  },
  {
   "cell_type": "code",
   "execution_count": 252,
   "metadata": {},
   "outputs": [],
   "source": [
    "pipe1=Pipeline([('scale',StandardScaler()),('poly',PolynomialFeatures(include_bias=False,degree=2)),('model',LinearRegression())])"
   ]
  },
  {
   "cell_type": "code",
   "execution_count": 264,
   "metadata": {},
   "outputs": [
    {
     "name": "stderr",
     "output_type": "stream",
     "text": [
      "C:\\Users\\savinda\\Anaconda3\\lib\\site-packages\\sklearn\\preprocessing\\data.py:645: DataConversionWarning: Data with input dtype int64, float64 were all converted to float64 by StandardScaler.\n",
      "  return self.partial_fit(X, y)\n",
      "C:\\Users\\savinda\\Anaconda3\\lib\\site-packages\\sklearn\\base.py:467: DataConversionWarning: Data with input dtype int64, float64 were all converted to float64 by StandardScaler.\n",
      "  return self.fit(X, y, **fit_params).transform(X)\n"
     ]
    },
    {
     "data": {
      "text/plain": [
       "Pipeline(memory=None,\n",
       "     steps=[('scale', StandardScaler(copy=True, with_mean=True, with_std=True)), ('poly', PolynomialFeatures(degree=2, include_bias=False, interaction_only=False)), ('model', LinearRegression(copy_X=True, fit_intercept=True, n_jobs=None,\n",
       "         normalize=False))])"
      ]
     },
     "execution_count": 264,
     "metadata": {},
     "output_type": "execute_result"
    }
   ],
   "source": [
    "pipe1.fit(X_train,y_train)"
   ]
  },
  {
   "cell_type": "code",
   "execution_count": 265,
   "metadata": {},
   "outputs": [
    {
     "name": "stderr",
     "output_type": "stream",
     "text": [
      "C:\\Users\\savinda\\Anaconda3\\lib\\site-packages\\sklearn\\pipeline.py:511: DataConversionWarning: Data with input dtype int64, float64 were all converted to float64 by StandardScaler.\n",
      "  Xt = transform.transform(Xt)\n"
     ]
    },
    {
     "data": {
      "text/plain": [
       "0.3056894090668181"
      ]
     },
     "execution_count": 265,
     "metadata": {},
     "output_type": "execute_result"
    }
   ],
   "source": [
    "pipe1.score(X_test,y_test)"
   ]
  },
  {
   "cell_type": "markdown",
   "metadata": {},
   "source": [
    "<h2>Linear model prediction distribution is more skinnier than the actual distribution"
   ]
  },
  {
   "cell_type": "code",
   "execution_count": 234,
   "metadata": {},
   "outputs": [
    {
     "name": "stderr",
     "output_type": "stream",
     "text": [
      "C:\\Users\\savinda\\Anaconda3\\lib\\site-packages\\sklearn\\pipeline.py:331: DataConversionWarning: Data with input dtype int64, float64 were all converted to float64 by StandardScaler.\n",
      "  Xt = transform.transform(Xt)\n"
     ]
    },
    {
     "data": {
      "text/plain": [
       "<matplotlib.axes._subplots.AxesSubplot at 0x190b09bb5f8>"
      ]
     },
     "execution_count": 234,
     "metadata": {},
     "output_type": "execute_result"
    },
    {
     "data": {
      "image/png": "[encoded data removed]",
      "text/plain": [
       "<Figure size 432x288 with 1 Axes>"
      ]
     },
     "metadata": {
      "needs_background": "light"
     },
     "output_type": "display_data"
    }
   ],
   "source": [
    "sns.distplot(y_test,color='r')\n",
    "sns.distplot(pipe1.predict(X_test))"
   ]
  },
  {
   "cell_type": "markdown",
   "metadata": {},
   "source": [
    "<h2>Let's define our parameters to predict the house rent "
   ]
  },
  {
   "cell_type": "code",
   "execution_count": 246,
   "metadata": {},
   "outputs": [],
   "source": [
    "my_data=pd.DataFrame({'Postcode':7250,'No of Bedrooms':2,'Length of Tenancy (In Months)':12},index=[0])"
   ]
  },
  {
   "cell_type": "markdown",
   "metadata": {},
   "source": [
    "<h2>R score and MSE for pipe1(Linear model)"
   ]
  },
  {
   "cell_type": "code",
   "execution_count": 266,
   "metadata": {},
   "outputs": [
    {
     "name": "stdout",
     "output_type": "stream",
     "text": [
      "r score: 0.3056894090668181\n",
      "MSE: 10155.198376369262\n"
     ]
    },
    {
     "name": "stderr",
     "output_type": "stream",
     "text": [
      "C:\\Users\\savinda\\Anaconda3\\lib\\site-packages\\sklearn\\pipeline.py:511: DataConversionWarning: Data with input dtype int64, float64 were all converted to float64 by StandardScaler.\n",
      "  Xt = transform.transform(Xt)\n",
      "C:\\Users\\savinda\\Anaconda3\\lib\\site-packages\\sklearn\\pipeline.py:331: DataConversionWarning: Data with input dtype int64, float64 were all converted to float64 by StandardScaler.\n",
      "  Xt = transform.transform(Xt)\n"
     ]
    }
   ],
   "source": [
    "print('r score:',pipe1.score(X_test,y_test))\n",
    "print('MSE:',mean_squared_error(y_pred=pipe1.predict(X_test),y_true=y_test))"
   ]
  },
  {
   "cell_type": "markdown",
   "metadata": {},
   "source": [
    "<h2>Let's try out RFR model"
   ]
  },
  {
   "cell_type": "code",
   "execution_count": 256,
   "metadata": {},
   "outputs": [],
   "source": [
    "from sklearn.ensemble import RandomForestRegressor"
   ]
  },
  {
   "cell_type": "code",
   "execution_count": 257,
   "metadata": {},
   "outputs": [],
   "source": [
    "pipe2=Pipeline([('scale',StandardScaler()),('poly',PolynomialFeatures(include_bias=False,degree=2)),('model',RandomForestRegressor())])"
   ]
  },
  {
   "cell_type": "code",
   "execution_count": 258,
   "metadata": {},
   "outputs": [
    {
     "name": "stderr",
     "output_type": "stream",
     "text": [
      "C:\\Users\\savinda\\Anaconda3\\lib\\site-packages\\sklearn\\preprocessing\\data.py:645: DataConversionWarning: Data with input dtype int64, float64 were all converted to float64 by StandardScaler.\n",
      "  return self.partial_fit(X, y)\n",
      "C:\\Users\\savinda\\Anaconda3\\lib\\site-packages\\sklearn\\base.py:467: DataConversionWarning: Data with input dtype int64, float64 were all converted to float64 by StandardScaler.\n",
      "  return self.fit(X, y, **fit_params).transform(X)\n",
      "C:\\Users\\savinda\\Anaconda3\\lib\\site-packages\\sklearn\\ensemble\\forest.py:246: FutureWarning: The default value of n_estimators will change from 10 in version 0.20 to 100 in 0.22.\n",
      "  \"10 in version 0.20 to 100 in 0.22.\", FutureWarning)\n",
      "C:\\Users\\savinda\\Anaconda3\\lib\\site-packages\\sklearn\\pipeline.py:267: DataConversionWarning: A column-vector y was passed when a 1d array was expected. Please change the shape of y to (n_samples,), for example using ravel().\n",
      "  self._final_estimator.fit(Xt, y, **fit_params)\n"
     ]
    },
    {
     "data": {
      "text/plain": [
       "Pipeline(memory=None,\n",
       "     steps=[('scale', StandardScaler(copy=True, with_mean=True, with_std=True)), ('poly', PolynomialFeatures(degree=2, include_bias=False, interaction_only=False)), ('model', RandomForestRegressor(bootstrap=True, criterion='mse', max_depth=None,\n",
       "           max_features='auto', max_leaf_nodes=None,\n",
       "      ...ators=10, n_jobs=None,\n",
       "           oob_score=False, random_state=None, verbose=0, warm_start=False))])"
      ]
     },
     "execution_count": 258,
     "metadata": {},
     "output_type": "execute_result"
    }
   ],
   "source": [
    "pipe2.fit(X_train,y_train)"
   ]
  },
  {
   "cell_type": "markdown",
   "metadata": {},
   "source": [
    "<h2>Mean squred error was improved when we used RFR model"
   ]
  },
  {
   "cell_type": "code",
   "execution_count": 260,
   "metadata": {},
   "outputs": [],
   "source": [
    "from sklearn.metrics import mean_squared_error"
   ]
  },
  {
   "cell_type": "code",
   "execution_count": 262,
   "metadata": {},
   "outputs": [
    {
     "name": "stdout",
     "output_type": "stream",
     "text": [
      "r score: 0.5329013510404784\n",
      "MSE: 6831.927243314233\n"
     ]
    },
    {
     "name": "stderr",
     "output_type": "stream",
     "text": [
      "C:\\Users\\savinda\\Anaconda3\\lib\\site-packages\\sklearn\\pipeline.py:511: DataConversionWarning: Data with input dtype int64, float64 were all converted to float64 by StandardScaler.\n",
      "  Xt = transform.transform(Xt)\n",
      "C:\\Users\\savinda\\Anaconda3\\lib\\site-packages\\sklearn\\pipeline.py:331: DataConversionWarning: Data with input dtype int64, float64 were all converted to float64 by StandardScaler.\n",
      "  Xt = transform.transform(Xt)\n"
     ]
    }
   ],
   "source": [
    "print('r score:',pipe2.score(X_test,y_test))\n",
    "print('MSE:',mean_squared_error(y_pred=pipe2.predict(X_test),y_true=y_test))"
   ]
  },
  {
   "cell_type": "markdown",
   "metadata": {},
   "source": [
    "<h2>Let's predict the house rent for our data"
   ]
  },
  {
   "cell_type": "code",
   "execution_count": 267,
   "metadata": {},
   "outputs": [
    {
     "name": "stderr",
     "output_type": "stream",
     "text": [
      "C:\\Users\\savinda\\Anaconda3\\lib\\site-packages\\sklearn\\pipeline.py:331: DataConversionWarning: Data with input dtype int64 were all converted to float64 by StandardScaler.\n",
      "  Xt = transform.transform(Xt)\n"
     ]
    },
    {
     "data": {
      "text/plain": [
       "array([283.56676004])"
      ]
     },
     "execution_count": 267,
     "metadata": {},
     "output_type": "execute_result"
    }
   ],
   "source": [
    "pipe2.predict(my_data)"
   ]
  },
  {
   "cell_type": "markdown",
   "metadata": {},
   "source": [
    "<h2>We now have a better prediction distribution with RFR model"
   ]
  },
  {
   "cell_type": "code",
   "execution_count": 268,
   "metadata": {},
   "outputs": [
    {
     "name": "stderr",
     "output_type": "stream",
     "text": [
      "C:\\Users\\savinda\\Anaconda3\\lib\\site-packages\\sklearn\\pipeline.py:331: DataConversionWarning: Data with input dtype int64, float64 were all converted to float64 by StandardScaler.\n",
      "  Xt = transform.transform(Xt)\n"
     ]
    },
    {
     "data": {
      "text/plain": [
       "<matplotlib.axes._subplots.AxesSubplot at 0x190b0ce3a58>"
      ]
     },
     "execution_count": 268,
     "metadata": {},
     "output_type": "execute_result"
    },
    {
     "data": {
      "image/png": "[encoded data removed]",
      "text/plain": [
       "<Figure size 432x288 with 1 Axes>"
      ]
     },
     "metadata": {
      "needs_background": "light"
     },
     "output_type": "display_data"
    }
   ],
   "source": [
    "sns.distplot(y_test,color='r')\n",
    "sns.distplot(pipe2.predict(X_test))"
   ]
  },
  {
   "cell_type": "markdown",
   "metadata": {},
   "source": [
    "<h2>Difference between the RFR model(pipe2) and Linear model(pipe1) can be viewed by the below scatter plots"
   ]
  },
  {
   "cell_type": "code",
   "execution_count": 283,
   "metadata": {},
   "outputs": [
    {
     "name": "stderr",
     "output_type": "stream",
     "text": [
      "C:\\Users\\savinda\\Anaconda3\\lib\\site-packages\\sklearn\\pipeline.py:331: DataConversionWarning: Data with input dtype int64, float64 were all converted to float64 by StandardScaler.\n",
      "  Xt = transform.transform(Xt)\n",
      "C:\\Users\\savinda\\Anaconda3\\lib\\site-packages\\sklearn\\pipeline.py:331: DataConversionWarning: Data with input dtype int64, float64 were all converted to float64 by StandardScaler.\n",
      "  Xt = transform.transform(Xt)\n"
     ]
    },
    {
     "data": {
      "image/png": "[encoded data removed]",
      "text/plain": [
       "<Figure size 432x288 with 1 Axes>"
      ]
     },
     "metadata": {
      "needs_background": "light"
     },
     "output_type": "display_data"
    },
    {
     "data": {
      "image/png": "[encoded data removed]",
      "text/plain": [
       "<Figure size 432x288 with 1 Axes>"
      ]
     },
     "metadata": {
      "needs_background": "light"
     },
     "output_type": "display_data"
    }
   ],
   "source": [
    "fig,ax1=plt.subplots()\n",
    "fig,ax2=plt.subplots()\n",
    "ax1.plot(y_test,pipe2.predict(X_test),'r.')\n",
    "ax2.plot(y_test,pipe1.predict(X_test),'b.')\n",
    "ax1.set_title('RFR')\n",
    "ax2.set_title('Linear Model')\n",
    "plt.show()"
   ]
  },
  {
   "cell_type": "markdown",
   "metadata": {},
   "source": [
    "<h2>We can figure out the best fit line for predicted and actual values as follows "
   ]
  },
  {
   "cell_type": "code",
   "execution_count": 295,
   "metadata": {},
   "outputs": [
    {
     "name": "stderr",
     "output_type": "stream",
     "text": [
      "C:\\Users\\savinda\\Anaconda3\\lib\\site-packages\\sklearn\\pipeline.py:331: DataConversionWarning: Data with input dtype int64, float64 were all converted to float64 by StandardScaler.\n",
      "  Xt = transform.transform(Xt)\n",
      "C:\\Users\\savinda\\Anaconda3\\lib\\site-packages\\scipy\\stats\\_stats_mstats_common.py:126: RuntimeWarning: invalid value encountered in sqrt\n",
      "  t = r * np.sqrt(df / ((1.0 - r + TINY)*(1.0 + r + TINY)))\n",
      "C:\\Users\\savinda\\Anaconda3\\lib\\site-packages\\scipy\\stats\\_distn_infrastructure.py:877: RuntimeWarning: invalid value encountered in greater\n",
      "  return (self.a < x) & (x < self.b)\n",
      "C:\\Users\\savinda\\Anaconda3\\lib\\site-packages\\scipy\\stats\\_distn_infrastructure.py:877: RuntimeWarning: invalid value encountered in less\n",
      "  return (self.a < x) & (x < self.b)\n",
      "C:\\Users\\savinda\\Anaconda3\\lib\\site-packages\\scipy\\stats\\_distn_infrastructure.py:1831: RuntimeWarning: invalid value encountered in less_equal\n",
      "  cond2 = cond0 & (x <= self.a)\n",
      "C:\\Users\\savinda\\Anaconda3\\lib\\site-packages\\scipy\\stats\\_stats_mstats_common.py:128: RuntimeWarning: invalid value encountered in sqrt\n",
      "  sterrest = np.sqrt((1 - r**2) * ssym / ssxm / df)\n"
     ]
    },
    {
     "data": {
      "text/plain": [
       "LinregressResult(slope=0.607233886545228, intercept=121.75580440943003, rvalue=0.7357466667344772, pvalue=nan, stderr=nan)"
      ]
     },
     "execution_count": 295,
     "metadata": {},
     "output_type": "execute_result"
    }
   ],
   "source": [
    ",scipy.stats.linregress(np.array(y_test).reshape(1,-1),pipe2.predict(X_test))"
   ]
  },
  {
   "cell_type": "markdown",
   "metadata": {},
   "source": [
    "<h5>This notebook was created by Savinda Lakshan,Eng."
   ]
  },
  {
   "cell_type": "code",
   "execution_count": null,
   "metadata": {},
   "outputs": [],
   "source": []
  }
 ],
 "metadata": {
  "kernelspec": {
   "display_name": "Python 3",
   "language": "python",
   "name": "python3"
  },
  "language_info": {
   "codemirror_mode": {
    "name": "ipython",
    "version": 3
   },
   "file_extension": ".py",
   "mimetype": "text/x-python",
   "name": "python",
   "nbconvert_exporter": "python",
   "pygments_lexer": "ipython3",
   "version": "3.7.3"
  }
 },
 "nbformat": 4,
 "nbformat_minor": 2
}
